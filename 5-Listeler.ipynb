{
 "cells": [
  {
   "cell_type": "markdown",
   "metadata": {},
   "source": [
    "Slicing"
   ]
  },
  {
   "cell_type": "code",
   "execution_count": 30,
   "metadata": {},
   "outputs": [
    {
     "name": "stdout",
     "output_type": "stream",
     "text": [
      "['Bilge', 26, 'AI & ML Engineer', True, 15000.34, 'Menekşe', 'Merve', 'Şule']\n"
     ]
    }
   ],
   "source": [
    "my_list = [\"Bilge\", 26, \"AI & ML Engineer\", True, 15000.34, \"Menekşe\", \"Merve\",\"Şule\"]\n",
    "print(my_list)"
   ]
  },
  {
   "cell_type": "code",
   "execution_count": 31,
   "metadata": {},
   "outputs": [
    {
     "name": "stdout",
     "output_type": "stream",
     "text": [
      "['Bilge', 26, 'AI & ML Engineer', True]\n"
     ]
    }
   ],
   "source": [
    "#ilk 4 elemanı ekrana basalım\n",
    "print(my_list[0:4])"
   ]
  },
  {
   "cell_type": "code",
   "execution_count": 32,
   "metadata": {},
   "outputs": [
    {
     "name": "stdout",
     "output_type": "stream",
     "text": [
      "['Bilge', 'AI & ML Engineer', 15000.34, 'Merve']\n"
     ]
    }
   ],
   "source": [
    "#her iki elemanda bir atlayarak ekrana bas\n",
    "print(my_list[::2])"
   ]
  },
  {
   "cell_type": "code",
   "execution_count": 33,
   "metadata": {},
   "outputs": [
    {
     "name": "stdout",
     "output_type": "stream",
     "text": [
      "['AI & ML Engineer', True, 15000.34]\n"
     ]
    }
   ],
   "source": [
    "#2 ile 5 index aralığındaki elemanları basalım\n",
    "print(my_list[2:5])"
   ]
  },
  {
   "cell_type": "code",
   "execution_count": 34,
   "metadata": {},
   "outputs": [
    {
     "name": "stdout",
     "output_type": "stream",
     "text": [
      "['Şule', 'Merve', 'Menekşe', 15000.34, True, 'AI & ML Engineer', 26, 'Bilge']\n"
     ]
    }
   ],
   "source": [
    "#listeyi tersten yazdıralım\n",
    "print(my_list[::-1])"
   ]
  },
  {
   "cell_type": "markdown",
   "metadata": {},
   "source": [
    "Döngüler ile listenin elemanlarını ekrana yazdırma"
   ]
  },
  {
   "cell_type": "code",
   "execution_count": 35,
   "metadata": {},
   "outputs": [
    {
     "name": "stdout",
     "output_type": "stream",
     "text": [
      "Ayşe Nur\n",
      "26\n",
      "AI & ML Engineer\n",
      "True\n",
      "15000.34\n",
      "Menekşe\n",
      "Merve\n",
      "Şule\n"
     ]
    }
   ],
   "source": [
    "my_list = [\"Ayşe Nur\", 26, \"AI & ML Engineer\", True, 15000.34, \"Menekşe\", \"Merve\",\"Şule\"]\n",
    "\n",
    "for item in my_list:\n",
    "    print(item)\n",
    "\n"
   ]
  },
  {
   "cell_type": "code",
   "execution_count": 36,
   "metadata": {},
   "outputs": [
    {
     "name": "stdout",
     "output_type": "stream",
     "text": [
      "26\n",
      "AI & ML Engineer\n",
      "True\n"
     ]
    }
   ],
   "source": [
    "#ilgili yeri alıp basabiliyoruz\n",
    "my_list = [\"Ayşe Nur\", 26, \"AI & ML Engineer\", True, 15000.34, \"Menekşe\", \"Merve\",\"Şule\"]\n",
    "\n",
    "for item in my_list[1:4]:\n",
    "    print(item)\n"
   ]
  },
  {
   "cell_type": "markdown",
   "metadata": {},
   "source": [
    "Elemanları yan yana gösterelim"
   ]
  },
  {
   "cell_type": "code",
   "execution_count": 37,
   "metadata": {},
   "outputs": [
    {
     "name": "stdout",
     "output_type": "stream",
     "text": [
      "Ayşe Nur  -  26  -  AI & ML Engineer  -  True  -  15000.34  -  Menekşe  -  Merve  -  Şule  -  "
     ]
    }
   ],
   "source": [
    "for item in my_list:\n",
    "    print(item, end=\"  -  \")"
   ]
  },
  {
   "cell_type": "markdown",
   "metadata": {},
   "source": [
    "indexler üzerinder erişim"
   ]
  },
  {
   "cell_type": "code",
   "execution_count": 40,
   "metadata": {},
   "outputs": [
    {
     "name": "stdout",
     "output_type": "stream",
     "text": [
      "0. index değeri: Ayşe Nur\n",
      "1. index değeri: 26\n",
      "2. index değeri: AI & ML Engineer\n",
      "3. index değeri: True\n",
      "4. index değeri: 15000.34\n",
      "5. index değeri: Menekşe\n",
      "6. index değeri: Merve\n",
      "7. index değeri: Şule\n"
     ]
    }
   ],
   "source": [
    "for i in range(0, len(my_list)):\n",
    "    print(f\"{i}. index değeri: {my_list[i]}\")"
   ]
  },
  {
   "cell_type": "markdown",
   "metadata": {},
   "source": [
    "Listelere Eleman Ekleme\n",
    "\n",
    "* append()\n",
    "* insert()\n",
    "* extend()\n",
    "\n",
    "append() -> Listenin sonuna eklenir"
   ]
  },
  {
   "cell_type": "code",
   "execution_count": 42,
   "metadata": {},
   "outputs": [
    {
     "name": "stdout",
     "output_type": "stream",
     "text": [
      "['Ayşe Nur', 26, 'AI & ML Engineer', True, 15000.34, 'Menekşe', 'Merve', 'Şule']\n",
      "['Ayşe Nur', 26, 'AI & ML Engineer', True, 15000.34, 'Menekşe', 'Merve', 'Şule', 'Edanur']\n"
     ]
    }
   ],
   "source": [
    "my_list = [\"Ayşe Nur\", 26, \"AI & ML Engineer\", True, 15000.34, \"Menekşe\", \"Merve\",\"Şule\"]\n",
    "print(my_list)\n",
    "\n",
    "my_list.append(\"Edanur\")\n",
    "print(my_list)\n"
   ]
  },
  {
   "cell_type": "markdown",
   "metadata": {},
   "source": [
    "insert() -> Listenin istenen indexte konumlandırma yapar. "
   ]
  },
  {
   "cell_type": "code",
   "execution_count": 44,
   "metadata": {},
   "outputs": [
    {
     "name": "stdout",
     "output_type": "stream",
     "text": [
      "['Ayşe Nur', 26, 'AI & ML Engineer', True, 15000.34, 'Menekşe', 'Merve', 'Şule']\n",
      "['Betül', 'Ayşe Nur', 26, 'AI & ML Engineer', True, 15000.34, 'Menekşe', 'Merve', 'Şule']\n"
     ]
    }
   ],
   "source": [
    "my_list = [\"Ayşe Nur\", 26, \"AI & ML Engineer\", True, 15000.34, \"Menekşe\", \"Merve\",\"Şule\"]\n",
    "print(my_list)\n",
    "\n",
    "my_list.insert(0, \"Betül\")\n",
    "print(my_list)"
   ]
  },
  {
   "cell_type": "code",
   "execution_count": 45,
   "metadata": {},
   "outputs": [
    {
     "name": "stdout",
     "output_type": "stream",
     "text": [
      "['Ayşe Nur', 26, 'AI & ML Engineer', True, 15000.34, 'Menekşe', 'Merve', 'Şule']\n",
      "['Ayşe Nur', 'Betül', 26, 'AI & ML Engineer', True, 15000.34, 'Menekşe', 'Merve', 'Şule']\n"
     ]
    }
   ],
   "source": [
    "my_list = [\"Ayşe Nur\", 26, \"AI & ML Engineer\", True, 15000.34, \"Menekşe\", \"Merve\",\"Şule\"]\n",
    "print(my_list)\n",
    "\n",
    "my_list.insert(1, \"Betül\")\n",
    "print(my_list)"
   ]
  },
  {
   "cell_type": "markdown",
   "metadata": {},
   "source": [
    "extend() -> Listenin sonuna ekleme yapar. Aynı anda birden fazla eleman eklemeye izin verir. appende()'de 1 eleman eklenebiliyordu."
   ]
  },
  {
   "cell_type": "code",
   "execution_count": 46,
   "metadata": {},
   "outputs": [
    {
     "name": "stdout",
     "output_type": "stream",
     "text": [
      "['Ayşe Nur', 26, 'AI & ML Engineer', True, 15000.34, 'Menekşe', 'Merve', 'Şule']\n",
      "['Ayşe Nur', 26, 'AI & ML Engineer', True, 15000.34, 'Menekşe', 'Merve', 'Şule', 1, 2, 3, 4]\n"
     ]
    }
   ],
   "source": [
    "my_list = [\"Ayşe Nur\", 26, \"AI & ML Engineer\", True, 15000.34, \"Menekşe\", \"Merve\",\"Şule\"]\n",
    "print(my_list)\n",
    "\n",
    "my_list.extend([1, 2, 3, 4])\n",
    "print(my_list)"
   ]
  },
  {
   "cell_type": "code",
   "execution_count": 47,
   "metadata": {},
   "outputs": [
    {
     "name": "stdout",
     "output_type": "stream",
     "text": [
      "['Ayşe Nur', 26, 'AI & ML Engineer', True, 15000.34, 'Menekşe', 'Merve', 'Şule']\n",
      "['Ayşe Nur', 26, 'AI & ML Engineer', True, 15000.34, 'Menekşe', 'Merve', 'Şule', [1, 2, 3, 4]]\n"
     ]
    }
   ],
   "source": [
    "my_list = [\"Ayşe Nur\", 26, \"AI & ML Engineer\", True, 15000.34, \"Menekşe\", \"Merve\",\"Şule\"]\n",
    "print(my_list)\n",
    "\n",
    "my_list.append([1, 2, 3, 4])\n",
    "print(my_list)"
   ]
  },
  {
   "cell_type": "code",
   "execution_count": 49,
   "metadata": {},
   "outputs": [
    {
     "name": "stdout",
     "output_type": "stream",
     "text": [
      "['Ayşe Nur', 26, 'AI & ML Engineer', True, 15000.34, 'Menekşe', 'Merve', 'Şule']\n",
      "['Ayşe Nur', 26, 'AI & ML Engineer', True, 15000.34, 'Menekşe', 'Merve', 'Şule', 1, 2, 3, 4, [5, 6, 7]]\n"
     ]
    }
   ],
   "source": [
    "my_list = [\"Ayşe Nur\", 26, \"AI & ML Engineer\", True, 15000.34, \"Menekşe\", \"Merve\",\"Şule\"]\n",
    "print(my_list)\n",
    "\n",
    "my_list.extend([1, 2, 3, 4, [5, 6, 7]])\n",
    "print(my_list)"
   ]
  },
  {
   "cell_type": "markdown",
   "metadata": {},
   "source": [
    "Liste elemanları üzerinde değişiklik"
   ]
  },
  {
   "cell_type": "code",
   "execution_count": 52,
   "metadata": {},
   "outputs": [
    {
     "name": "stdout",
     "output_type": "stream",
     "text": [
      "Önceki Hali:  [1, 4, 6, 7, 8, 3]\n",
      "Sonraki Hali:  [78, 4, 6, 7, 8, 3]\n"
     ]
    }
   ],
   "source": [
    "my_list = [1, 4, 6, 7, 8, 3]\n",
    "print(\"Önceki Hali: \", my_list)\n",
    "\n",
    "my_list[0] = 78\n",
    "print(\"Sonraki Hali: \", my_list)"
   ]
  },
  {
   "cell_type": "code",
   "execution_count": 53,
   "metadata": {},
   "outputs": [
    {
     "name": "stdout",
     "output_type": "stream",
     "text": [
      "Önceki Hali:  [78, 4, 6, 7, 8, 3]\n",
      "Sonraki Hali: [78, 12, 13, 14, 8, 3]\n"
     ]
    }
   ],
   "source": [
    "print(\"Önceki Hali: \", my_list)\n",
    "\n",
    "my_list[1:4] = [12, 13, 14]\n",
    "print(\"Sonraki Hali:\", my_list)\n"
   ]
  },
  {
   "cell_type": "code",
   "execution_count": 55,
   "metadata": {},
   "outputs": [
    {
     "name": "stdout",
     "output_type": "stream",
     "text": [
      "Önceki Hali:  [1, 4, 6, 7, 8, 3]\n",
      "Sonraki Hali:  [2, 5, 7, 8, 9, 4]\n"
     ]
    }
   ],
   "source": [
    "#listenin tüm elemanlarına 1 ekle\n",
    "my_list = [1, 4, 6, 7, 8, 3]\n",
    "print(\"Önceki Hali: \", my_list)\n",
    "\n",
    "for i in range(0, len(my_list)):\n",
    "    my_list[i] += 1\n",
    "print(\"Sonraki Hali: \", my_list)"
   ]
  },
  {
   "cell_type": "markdown",
   "metadata": {},
   "source": [
    "Listeden Eleman Silme\n",
    "\n",
    "* remove()\n",
    "* pop()\n",
    "* clear()\n",
    "* del()\n"
   ]
  },
  {
   "cell_type": "markdown",
   "metadata": {},
   "source": [
    "remove() -> listeden istenen ilk bulduğu elemanı silinir."
   ]
  },
  {
   "cell_type": "code",
   "execution_count": 58,
   "metadata": {},
   "outputs": [
    {
     "name": "stdout",
     "output_type": "stream",
     "text": [
      "[0, 1, 2, 3, 4, 1, 5, 6, 7, 8, 9, 10, 11, 12, 13]\n"
     ]
    }
   ],
   "source": [
    "my_list = [0, 1, 2, 3, 4,1, 5, 6, 7, 8, 9, 10, 11, 12, 13]\n",
    "print(my_list)"
   ]
  },
  {
   "cell_type": "code",
   "execution_count": 59,
   "metadata": {},
   "outputs": [
    {
     "name": "stdout",
     "output_type": "stream",
     "text": [
      "Önceki Hali:  [0, 1, 2, 3, 4, 1, 5, 6, 7, 8, 9, 10, 11, 12, 13]\n",
      "Sonraki hali:  [0, 2, 3, 4, 1, 5, 6, 7, 8, 9, 10, 11, 12, 13]\n"
     ]
    }
   ],
   "source": [
    "print(\"Önceki Hali: \", my_list)\n",
    "\n",
    "my_list.remove(1)\n",
    "\n",
    "print(\"Sonraki hali: \", my_list)"
   ]
  },
  {
   "cell_type": "markdown",
   "metadata": {},
   "source": [
    "listede olmayan bir elemanın silinmesi"
   ]
  },
  {
   "cell_type": "code",
   "execution_count": 60,
   "metadata": {},
   "outputs": [
    {
     "name": "stdout",
     "output_type": "stream",
     "text": [
      "Önceki Hali:  [0, 2, 3, 4, 1, 5, 6, 7, 8, 9, 10, 11, 12, 13]\n"
     ]
    },
    {
     "ename": "ValueError",
     "evalue": "list.remove(x): x not in list",
     "output_type": "error",
     "traceback": [
      "\u001b[1;31m---------------------------------------------------------------------------\u001b[0m",
      "\u001b[1;31mValueError\u001b[0m                                Traceback (most recent call last)",
      "Cell \u001b[1;32mIn [60], line 3\u001b[0m\n\u001b[0;32m      1\u001b[0m \u001b[38;5;28mprint\u001b[39m(\u001b[38;5;124m\"\u001b[39m\u001b[38;5;124mÖnceki Hali: \u001b[39m\u001b[38;5;124m\"\u001b[39m, my_list)\n\u001b[1;32m----> 3\u001b[0m my_list\u001b[38;5;241m.\u001b[39mremove(\u001b[38;5;241m100\u001b[39m)\n\u001b[0;32m      5\u001b[0m \u001b[38;5;28mprint\u001b[39m(\u001b[38;5;124m\"\u001b[39m\u001b[38;5;124mSonraki hali: \u001b[39m\u001b[38;5;124m\"\u001b[39m, my_list)\n",
      "\u001b[1;31mValueError\u001b[0m: list.remove(x): x not in list"
     ]
    }
   ],
   "source": [
    "print(\"Önceki Hali: \", my_list)\n",
    "\n",
    "my_list.remove(100)\n",
    "\n",
    "print(\"Sonraki hali: \", my_list)"
   ]
  },
  {
   "cell_type": "markdown",
   "metadata": {},
   "source": [
    "pop() -> Herhangi bir index verilmezse listenin son elemanı silinir.İndex verilirse de ilgili indexteki eleman silinir."
   ]
  },
  {
   "cell_type": "code",
   "execution_count": 62,
   "metadata": {},
   "outputs": [
    {
     "name": "stdout",
     "output_type": "stream",
     "text": [
      "Önceki Hali:  ['Zeynep', 'Öykü', 'Betül', 'İrem', 'Nihal', 'İrem', 'Öykü', 'Öykü']\n",
      "İkinci Hali:  ['Zeynep', 'Öykü', 'Betül', 'İrem', 'Nihal', 'İrem', 'Öykü']\n",
      "Sonraki hali:  ['Zeynep', 'Öykü', 'İrem', 'Nihal', 'İrem', 'Öykü']\n"
     ]
    }
   ],
   "source": [
    "my_list = [\"Zeynep\", \"Öykü\", \"Betül\", \"İrem\", \"Nihal\", \"İrem\", \"Öykü\", \"Öykü\"]\n",
    "print(\"Önceki Hali: \", my_list)\n",
    "\n",
    "my_list.pop()\n",
    "print(\"İkinci Hali: \", my_list)\n",
    "my_list.pop(2)\n",
    "\n",
    "print(\"Sonraki hali: \", my_list)"
   ]
  },
  {
   "cell_type": "markdown",
   "metadata": {},
   "source": [
    "del() -> Listeyi tamamen siler."
   ]
  },
  {
   "cell_type": "code",
   "execution_count": 65,
   "metadata": {},
   "outputs": [
    {
     "name": "stdout",
     "output_type": "stream",
     "text": [
      "['Zeynep', 'Öykü', 'Betül', 'İrem', 'Nihal', 'İrem', 'Öykü', 'Öykü']\n",
      "['Zeynep', 'İrem', 'Nihal', 'İrem', 'Öykü', 'Öykü']\n"
     ]
    },
    {
     "ename": "NameError",
     "evalue": "name 'my_list' is not defined",
     "output_type": "error",
     "traceback": [
      "\u001b[1;31m---------------------------------------------------------------------------\u001b[0m",
      "\u001b[1;31mNameError\u001b[0m                                 Traceback (most recent call last)",
      "Cell \u001b[1;32mIn [65], line 8\u001b[0m\n\u001b[0;32m      5\u001b[0m \u001b[38;5;28mprint\u001b[39m(my_list)\n\u001b[0;32m      7\u001b[0m \u001b[38;5;28;01mdel\u001b[39;00m my_list   \u001b[38;5;66;03m#listeyi tamamen siler\u001b[39;00m\n\u001b[1;32m----> 8\u001b[0m \u001b[38;5;28mprint\u001b[39m( my_list)\n",
      "\u001b[1;31mNameError\u001b[0m: name 'my_list' is not defined"
     ]
    }
   ],
   "source": [
    "my_list = [\"Zeynep\", \"Öykü\", \"Betül\", \"İrem\", \"Nihal\", \"İrem\", \"Öykü\", \"Öykü\"]\n",
    "print(my_list)\n",
    "\n",
    "del my_list[1:3] #belirtilen aralıktaki değerleri siler\n",
    "print(my_list)\n",
    "\n",
    "del my_list   #listeyi tamamen siler\n",
    "print( my_list)"
   ]
  },
  {
   "cell_type": "code",
   "execution_count": 83,
   "metadata": {},
   "outputs": [
    {
     "name": "stdout",
     "output_type": "stream",
     "text": [
      "['Zeynep', 'Betül', 'İrem', 'Nihal', 'İrem', 2, 1, 2]\n"
     ]
    }
   ],
   "source": [
    "my_list = [\"Zeynep\", \"Öykü\", \"Betül\", \"İrem\", \"Nihal\", \"İrem\", \"Öykü\",2, \"Öykü\", 1, 2]\n",
    "\n",
    "while \"Öykü\" in my_list:\n",
    "    #my_list.pop(my_list.index(\"Öykü\"))\n",
    "    my_list.remove(\"Öykü\")\n",
    "\n",
    "print(my_list)"
   ]
  },
  {
   "cell_type": "markdown",
   "metadata": {},
   "source": [
    "clear() -> liste içerisindeki tüm elemanları siler. Çıktı olarakta boş liste döner."
   ]
  },
  {
   "cell_type": "code",
   "execution_count": 66,
   "metadata": {},
   "outputs": [
    {
     "name": "stdout",
     "output_type": "stream",
     "text": [
      "['Zeynep', 'Öykü', 'Betül', 'İrem', 'Nihal', 'İrem', 'Öykü', 'Öykü']\n",
      "[]\n"
     ]
    }
   ],
   "source": [
    "my_list = [\"Zeynep\", \"Öykü\", \"Betül\", \"İrem\", \"Nihal\", \"İrem\", \"Öykü\", \"Öykü\"]\n",
    "print(my_list)\n",
    "\n",
    "my_list.clear()\n",
    "print(my_list)"
   ]
  },
  {
   "cell_type": "markdown",
   "metadata": {},
   "source": [
    "index()"
   ]
  },
  {
   "cell_type": "code",
   "execution_count": 68,
   "metadata": {},
   "outputs": [
    {
     "name": "stdout",
     "output_type": "stream",
     "text": [
      "2\n"
     ]
    }
   ],
   "source": [
    "movies = [\"Friends\", \"The Office\", \"The Big Bang Theory\", \"Breaking Bad\", \"How I Meet Your Mother\", \"Heartland\"]\n",
    "\n",
    "print(movies.index(\"The Big Bang Theory\"))"
   ]
  },
  {
   "cell_type": "code",
   "execution_count": 69,
   "metadata": {},
   "outputs": [
    {
     "ename": "ValueError",
     "evalue": "'Big Bang Theory' is not in list",
     "output_type": "error",
     "traceback": [
      "\u001b[1;31m---------------------------------------------------------------------------\u001b[0m",
      "\u001b[1;31mValueError\u001b[0m                                Traceback (most recent call last)",
      "Cell \u001b[1;32mIn [69], line 3\u001b[0m\n\u001b[0;32m      1\u001b[0m movies \u001b[38;5;241m=\u001b[39m [\u001b[38;5;124m\"\u001b[39m\u001b[38;5;124mFriends\u001b[39m\u001b[38;5;124m\"\u001b[39m, \u001b[38;5;124m\"\u001b[39m\u001b[38;5;124mThe Office\u001b[39m\u001b[38;5;124m\"\u001b[39m, \u001b[38;5;124m\"\u001b[39m\u001b[38;5;124mThe Big Bang Theory\u001b[39m\u001b[38;5;124m\"\u001b[39m, \u001b[38;5;124m\"\u001b[39m\u001b[38;5;124mBreaking Bad\u001b[39m\u001b[38;5;124m\"\u001b[39m, \u001b[38;5;124m\"\u001b[39m\u001b[38;5;124mHow I Meet Your Mother\u001b[39m\u001b[38;5;124m\"\u001b[39m, \u001b[38;5;124m\"\u001b[39m\u001b[38;5;124mHeartland\u001b[39m\u001b[38;5;124m\"\u001b[39m]\n\u001b[1;32m----> 3\u001b[0m \u001b[38;5;28mprint\u001b[39m(movies\u001b[38;5;241m.\u001b[39mindex(\u001b[38;5;124m\"\u001b[39m\u001b[38;5;124mBig Bang Theory\u001b[39m\u001b[38;5;124m\"\u001b[39m))\n",
      "\u001b[1;31mValueError\u001b[0m: 'Big Bang Theory' is not in list"
     ]
    }
   ],
   "source": [
    "movies = [\"Friends\", \"The Office\", \"The Big Bang Theory\", \"Breaking Bad\", \"How I Meet Your Mother\", \"Heartland\"]\n",
    "\n",
    "print(movies.index(\"Big Bang Theory\"))"
   ]
  },
  {
   "cell_type": "markdown",
   "metadata": {},
   "source": [
    "İki listeyi concat etme (birleştirme)\n",
    "\n",
    "* **+** operatörü ile\n",
    "* extend() metodu ile"
   ]
  },
  {
   "cell_type": "code",
   "execution_count": 70,
   "metadata": {},
   "outputs": [
    {
     "name": "stdout",
     "output_type": "stream",
     "text": [
      "[1, 2, 3, 4, 5, 6]\n"
     ]
    }
   ],
   "source": [
    "my_list1 = [1, 2, 3]\n",
    "my_list2 = [4, 5, 6]\n",
    "\n",
    "my_list3 = my_list1 + my_list2\n",
    "\n",
    "print(my_list3)"
   ]
  },
  {
   "cell_type": "code",
   "execution_count": 75,
   "metadata": {},
   "outputs": [
    {
     "name": "stdout",
     "output_type": "stream",
     "text": [
      "[1, 2, 3, 4, 5, 6, 1]\n"
     ]
    }
   ],
   "source": [
    "my_list1 = [1, 2, 3]\n",
    "my_list2 = [4, 5, 6, 1]\n",
    "\n",
    "my_list1.extend(my_list2)\n",
    "print(my_list1)"
   ]
  },
  {
   "cell_type": "markdown",
   "metadata": {},
   "source": [
    "Bir Listenin Kopyalanması\n",
    "\n",
    "= atama operatörü ile"
   ]
  },
  {
   "cell_type": "code",
   "execution_count": 84,
   "metadata": {},
   "outputs": [
    {
     "name": "stdout",
     "output_type": "stream",
     "text": [
      "[1, 2, 3, 4]\n"
     ]
    }
   ],
   "source": [
    "my_list = [1, 2 ,3]\n",
    "\n",
    "new_list = my_list\n",
    "\n",
    "my_list.append(4)\n",
    "print(new_list)\n"
   ]
  },
  {
   "cell_type": "markdown",
   "metadata": {},
   "source": [
    "copy()"
   ]
  },
  {
   "cell_type": "code",
   "execution_count": 86,
   "metadata": {},
   "outputs": [
    {
     "name": "stdout",
     "output_type": "stream",
     "text": [
      "[1, 2, 3]\n",
      "[1, 2, 3, 4]\n"
     ]
    }
   ],
   "source": [
    "my_list = [1, 2 ,3]\n",
    "\n",
    "new_list = my_list.copy()\n",
    "\n",
    "my_list.append(4)\n",
    "print(new_list)\n",
    "print(my_list)\n"
   ]
  },
  {
   "cell_type": "markdown",
   "metadata": {},
   "source": [
    "* sort\n",
    "* reverse\n",
    "* max, min\n",
    "* sum"
   ]
  },
  {
   "cell_type": "code",
   "execution_count": 88,
   "metadata": {},
   "outputs": [
    {
     "name": "stdout",
     "output_type": "stream",
     "text": [
      "Listenin  ilk hali:  [1, 6, 3, 8, 0]\n",
      "Listenin sıralanmış hali:  [0, 1, 3, 6, 8]\n",
      "Listenin tersten sıralanmış hali:  [8, 6, 3, 1, 0]\n",
      "Listenin max. elemanı:  8\n",
      "Listenin min. elemanı:  0\n",
      "Listenin elemanlarının toplamı:  18\n"
     ]
    }
   ],
   "source": [
    "my_list = [1, 6, 3, 8, 0]\n",
    "print (\"Listenin  ilk hali: \", my_list)\n",
    "\n",
    "my_list.sort()\n",
    "print(\"Listenin sıralanmış hali: \", my_list)\n",
    "\n",
    "my_list.reverse()\n",
    "print(\"Listenin tersten sıralanmış hali: \", my_list)\n",
    "\n",
    "\n",
    "print(\"Listenin max. elemanı: \", max(my_list))\n",
    "\n",
    "print(\"Listenin min. elemanı: \", min(my_list))\n",
    "\n",
    "print(\"Listenin elemanlarının toplamı: \",sum(my_list))"
   ]
  },
  {
   "cell_type": "markdown",
   "metadata": {},
   "source": [
    "İç içe listeler"
   ]
  },
  {
   "cell_type": "code",
   "execution_count": 92,
   "metadata": {},
   "outputs": [
    {
     "name": "stdout",
     "output_type": "stream",
     "text": [
      "['Aysel Aydın', 2015, ['Software Dev.', 'Anroid Dev.', 'AI & ML Engineer'], 7, 3467]\n",
      "['Software Dev.', 'Anroid Dev.', 'AI & ML Engineer']\n",
      "Software Dev.\n",
      "AI & ML Engineer\n"
     ]
    }
   ],
   "source": [
    "my_list = [\"Aysel Aydın\", 2015, [\"Software Dev.\", \"Anroid Dev.\", \"AI & ML Engineer\"], 7, 3467]\n",
    "print(my_list)\n",
    "\n",
    "print(my_list[2])\n",
    "print(my_list[2][0])\n",
    "print(my_list[2][-1])"
   ]
  },
  {
   "cell_type": "code",
   "execution_count": 96,
   "metadata": {},
   "outputs": [
    {
     "name": "stdout",
     "output_type": "stream",
     "text": [
      "[4, 16, 36, 64, 100, 0]\n"
     ]
    }
   ],
   "source": [
    "#Bu listeki çift sayıların karelerinden yeni bir liste oluşturacağız\n",
    "my_list = [1, 2, 3, 4, 5, 6, 7, 8, 9, 10, 0]\n",
    "\n",
    "new_list = []\n",
    "for item in my_list:\n",
    "    if item % 2 == 0:\n",
    "        new_list.append(item**2)\n",
    "\n",
    "print(new_list)\n"
   ]
  },
  {
   "cell_type": "code",
   "execution_count": null,
   "metadata": {},
   "outputs": [],
   "source": [
    "my_list = []"
   ]
  },
  {
   "cell_type": "code",
   "execution_count": 100,
   "metadata": {},
   "outputs": [
    {
     "name": "stdout",
     "output_type": "stream",
     "text": [
      "['Aysel Aydın', 2015, ['Software Dev.', 'Anroid Dev.', 'AI & ML Engineer', 'Eğitmen'], 7, 3467]\n"
     ]
    }
   ],
   "source": [
    "#Eğitmen title değerini 2.indexe ekleyelim\n",
    "my_list = [\"Aysel Aydın\", 2015, [\"Software Dev.\", \"Anroid Dev.\", \"AI & ML Engineer\"], 7, 3467]\n",
    "\n",
    "my_list[2].append (\"Eğitmen\")\n",
    "\n",
    "print(my_list)"
   ]
  },
  {
   "cell_type": "code",
   "execution_count": 101,
   "metadata": {},
   "outputs": [
    {
     "name": "stdout",
     "output_type": "stream",
     "text": [
      "[10, 20, 30, 40, 50]\n"
     ]
    }
   ],
   "source": [
    "#Duplicate verileri temizleyerek yeni bir liste oluşturalım.\n",
    "my_list = [10, 10, 20, 30, 10, 20, 40, 50]\n",
    "\n",
    "uniqe_list = []\n",
    "\n",
    "for i in my_list:\n",
    "    if i not in uniqe_list:\n",
    "        uniqe_list.append(i)\n",
    "\n",
    "print(uniqe_list)\n",
    "\n"
   ]
  },
  {
   "cell_type": "code",
   "execution_count": 104,
   "metadata": {},
   "outputs": [
    {
     "name": "stdout",
     "output_type": "stream",
     "text": [
      "10\n"
     ]
    }
   ],
   "source": [
    "#Liste içerisindeki en büyük elemanı bulma (max metodu kullanmadan)\n",
    "my_list = [1,2,3,9,4,5,6,7,8,9,10,0]\n",
    "\n",
    "temp = 0\n",
    "for i in my_list:\n",
    "    if i > temp:\n",
    "        temp = i\n",
    "        \n",
    "\n",
    "print(temp)\n"
   ]
  },
  {
   "cell_type": "code",
   "execution_count": 105,
   "metadata": {},
   "outputs": [
    {
     "name": "stdout",
     "output_type": "stream",
     "text": [
      "0\n"
     ]
    }
   ],
   "source": [
    "#kendim küçük değeri buldum\n",
    "my_list = [1,2,3,9,4,5,6,7,8,9,10,0]\n",
    "\n",
    "temp = 15\n",
    "for i in my_list:\n",
    "    if i < temp:\n",
    "        temp = i\n",
    "        \n",
    "\n",
    "print(temp)"
   ]
  },
  {
   "cell_type": "code",
   "execution_count": 109,
   "metadata": {},
   "outputs": [
    {
     "name": "stdout",
     "output_type": "stream",
     "text": [
      "['Sisterslab', 'Women', 'in', 'Tech', 'Python', 'akademimiz', 'tüm', 'hızıyla', 'devam', 'etmektedir']\n",
      "['Sisterslab', 'Python', 'akademimiz', 'hızıyla', 'etmektedir']\n"
     ]
    }
   ],
   "source": [
    "#text içerisinde yer alan kelimelerden uzunluğu 6dan büyük eşit olanları ayrı bir listeye atalım\n",
    "text = \"Sisterslab Women in Tech Python akademimiz tüm hızıyla devam etmektedir\"\n",
    "\n",
    "words = text.split(\" \")\n",
    "print(words)\n",
    "\n",
    "new_list= []\n",
    "for i in words:\n",
    "    if len(i) >= 6:\n",
    "        new_list.append(i)\n",
    "\n",
    "print(new_list)\n",
    "\n"
   ]
  }
 ],
 "metadata": {
  "kernelspec": {
   "display_name": "Python 3.10.7 64-bit (microsoft store)",
   "language": "python",
   "name": "python3"
  },
  "language_info": {
   "codemirror_mode": {
    "name": "ipython",
    "version": 3
   },
   "file_extension": ".py",
   "mimetype": "text/x-python",
   "name": "python",
   "nbconvert_exporter": "python",
   "pygments_lexer": "ipython3",
   "version": "3.10.7"
  },
  "orig_nbformat": 4,
  "vscode": {
   "interpreter": {
    "hash": "5ee8566cd02fc12b012a18b99b3a82438b9e224a90e590f4237ed03c182601f5"
   }
  }
 },
 "nbformat": 4,
 "nbformat_minor": 2
}
