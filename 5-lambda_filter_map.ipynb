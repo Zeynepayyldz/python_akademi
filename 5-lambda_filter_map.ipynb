{
 "cells": [
  {
   "cell_type": "markdown",
   "metadata": {},
   "source": [
    "* lambda\n",
    "* filter\n",
    "* map"
   ]
  },
  {
   "cell_type": "markdown",
   "metadata": {},
   "source": [
    "**lambda arguments : expression**\n",
    "\n",
    "Syntax olarak sadece bir ifade(expression) ve birden fazla parametre (arguments) alabilir."
   ]
  },
  {
   "cell_type": "code",
   "execution_count": 1,
   "metadata": {},
   "outputs": [
    {
     "name": "stdout",
     "output_type": "stream",
     "text": [
      "30\n"
     ]
    }
   ],
   "source": [
    "double = lambda x: x * 2  #x->arguments x*2-> expression\n",
    "\n",
    "print(double(15))"
   ]
  },
  {
   "cell_type": "code",
   "execution_count": 2,
   "metadata": {},
   "outputs": [
    {
     "name": "stdout",
     "output_type": "stream",
     "text": [
      "30\n"
     ]
    }
   ],
   "source": [
    "def double(x):\n",
    "    return x*2\n",
    "    \n",
    "print(double(15))"
   ]
  },
  {
   "cell_type": "code",
   "execution_count": 4,
   "metadata": {},
   "outputs": [
    {
     "name": "stdout",
     "output_type": "stream",
     "text": [
      "4\n",
      "30\n"
     ]
    }
   ],
   "source": [
    "#default değer verme (değer verilmemişse x=2 alınır. Değer verilirse de  o değeri 2 ile çarp)\n",
    "\n",
    "double = lambda x = 2: x *2\n",
    "    \n",
    "\n",
    "print(double())\n",
    "print(double(15))"
   ]
  },
  {
   "cell_type": "code",
   "execution_count": 5,
   "metadata": {},
   "outputs": [
    {
     "name": "stdout",
     "output_type": "stream",
     "text": [
      "7\n"
     ]
    }
   ],
   "source": [
    "#lambda x,y parametreleri yazarsın, : dan sonra istenenleri yazarsın.x < y ise bu xe gitsin, değilse yye gitsin\n",
    "Min = lambda x, y:x if x < y else y\n",
    "\n",
    "print(Min(9,7))"
   ]
  },
  {
   "cell_type": "code",
   "execution_count": 6,
   "metadata": {},
   "outputs": [
    {
     "name": "stdout",
     "output_type": "stream",
     "text": [
      "[[1, 2, 3, 6, 8], [1, 2, 4, 6, 9], [0, 1, 3, 5, 7]]\n"
     ]
    }
   ],
   "source": [
    "#iç içe yer alan listeleri lambda fonksiyonu ile sıralayalım\n",
    "my_list = [[2, 6, 8, 3, 1], [2, 6, 4, 1, 9], [0, 7, 3, 5, 1]]\n",
    "\n",
    "sortedList = lambda use_list: (sorted(i) for i in use_list)\n",
    "\n",
    "print(list(sortedList(my_list)))"
   ]
  },
  {
   "cell_type": "code",
   "execution_count": 7,
   "metadata": {},
   "outputs": [
    {
     "name": "stdout",
     "output_type": "stream",
     "text": [
      "0. index değeri [2, 6, 8, 3, 1]\n",
      "1. index değeri [2, 6, 4, 1, 9]\n",
      "2. index değeri [0, 7, 3, 5, 1]\n",
      "None\n"
     ]
    }
   ],
   "source": [
    "my_list = [[2, 6, 8, 3, 1], [2, 6, 4, 1, 9], [0, 7, 3, 5, 1]]\n",
    "\n",
    "def sortedList(liste):\n",
    "    for i, item in enumerate(my_list):\n",
    "        print(f\"{i}. index değeri {item}\")\n",
    "\n",
    "\n",
    "print(sortedList(my_list))"
   ]
  },
  {
   "cell_type": "code",
   "execution_count": 9,
   "metadata": {},
   "outputs": [
    {
     "name": "stdout",
     "output_type": "stream",
     "text": [
      "[[1, 2, 3, 6, 8], [1, 2, 4, 6, 9], [0, 1, 3, 5, 7]]\n"
     ]
    }
   ],
   "source": [
    "my_list = [[2, 6, 8, 3, 1], [2, 6, 4, 1, 9], [0, 7, 3, 5, 1]]\n",
    "\n",
    "def sortedList(liste):\n",
    "    for index, item in enumerate(my_list):\n",
    "        my_list[index] = sorted(item)\n",
    "\n",
    "    return my_list\n",
    "\n",
    "\n",
    "print(sortedList(my_list))"
   ]
  },
  {
   "cell_type": "code",
   "execution_count": 11,
   "metadata": {},
   "outputs": [
    {
     "name": "stdout",
     "output_type": "stream",
     "text": [
      "[10, 70, 90, 40, 30]\n"
     ]
    }
   ],
   "source": [
    "multiplyList = lambda x: (i*10 for i in x)\n",
    "\n",
    "print(list(multiplyList([1, 7, 9, 4, 3])))"
   ]
  },
  {
   "cell_type": "markdown",
   "metadata": {},
   "source": []
  },
  {
   "cell_type": "code",
   "execution_count": null,
   "metadata": {},
   "outputs": [],
   "source": []
  }
 ],
 "metadata": {
  "kernelspec": {
   "display_name": "Python 3.10.7 64-bit (microsoft store)",
   "language": "python",
   "name": "python3"
  },
  "language_info": {
   "codemirror_mode": {
    "name": "ipython",
    "version": 3
   },
   "file_extension": ".py",
   "mimetype": "text/x-python",
   "name": "python",
   "nbconvert_exporter": "python",
   "pygments_lexer": "ipython3",
   "version": "3.10.7"
  },
  "orig_nbformat": 4,
  "vscode": {
   "interpreter": {
    "hash": "5ee8566cd02fc12b012a18b99b3a82438b9e224a90e590f4237ed03c182601f5"
   }
  }
 },
 "nbformat": 4,
 "nbformat_minor": 2
}
