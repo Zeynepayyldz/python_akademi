{
 "cells": [
  {
   "cell_type": "markdown",
   "metadata": {},
   "source": [
    "**Set**\n",
    "* index ile erişilemezler. Unordered yani sıralı değillerdir. (Bir sete erişmek istediğinizde sıralama her seferinde farklılaşacaktır.)(0.indexteki değeri getir diyemeyiz. Yeri değişir çalıştırdıkça)\n",
    "* Set'ler değiştirilemezler yani immutable. Tuple'dan farkı sete yeni eleman ekleyip çıkarabiliyoruz. Ama setin içerisindeki bir elemanı DEĞİŞTİREMİYORUZ.\n",
    "* {} parantez içerisinde tanımlanır. Elemanlar virgül ile ayrılır.\n",
    "* Farklı tipte veri taşımaya izin verir.\n",
    "* Aynı değere sahip iki eleman YER ALAMAZ. DUPLİCATE veri taşımazlar"
   ]
  },
  {
   "cell_type": "code",
   "execution_count": 5,
   "metadata": {},
   "outputs": [],
   "source": [
    "int_set= {1, 2, 3, 4}\n",
    "string_set= {\"Ruveyda\", \"Ece\", \"Merve\", \"Zeynep\", \"Bilge\"}\n",
    "mix_set= {12, \"Sude\", 10234.6, True}"
   ]
  },
  {
   "cell_type": "code",
   "execution_count": 7,
   "metadata": {},
   "outputs": [
    {
     "name": "stdout",
     "output_type": "stream",
     "text": [
      "{True, 10234.6, 'Sude', 12}\n",
      "{'Zeynep', 'Bilge', 'Merve', 'Ece', 'Ruveyda'}\n"
     ]
    }
   ],
   "source": [
    "print(mix_set)\n",
    "print(string_set)"
   ]
  },
  {
   "cell_type": "code",
   "execution_count": 8,
   "metadata": {},
   "outputs": [
    {
     "name": "stdout",
     "output_type": "stream",
     "text": [
      "<class 'set'>\n"
     ]
    }
   ],
   "source": [
    "print(type(mix_set))"
   ]
  },
  {
   "cell_type": "code",
   "execution_count": 12,
   "metadata": {},
   "outputs": [
    {
     "name": "stdout",
     "output_type": "stream",
     "text": [
      "{0, 1, 2, 3, 8, 9}\n"
     ]
    }
   ],
   "source": [
    "my_set= {1, 3, 8, 1, 2, 8, 0, 9}\n",
    "print(my_set)"
   ]
  },
  {
   "cell_type": "code",
   "execution_count": 11,
   "metadata": {},
   "outputs": [
    {
     "name": "stdout",
     "output_type": "stream",
     "text": [
      "{9, 4, 5, 6}\n"
     ]
    }
   ],
   "source": [
    "my_set= {9, 4, 5, 4, 9, 6}\n",
    "print(my_set)"
   ]
  },
  {
   "cell_type": "code",
   "execution_count": 17,
   "metadata": {},
   "outputs": [
    {
     "name": "stdout",
     "output_type": "stream",
     "text": [
      "[3, 8, 2, 'Ece', 'Ece', True, 8, False, 9, 19, False, 3, 2]\n",
      "{False, True, 2, 3, 8, 9, 'Ece', 19}\n"
     ]
    }
   ],
   "source": [
    "my_list = [3, 8, 2, \"Ece\",\"Ece\", True, 8, False, 9, 19, False, 3, 2]\n",
    "print(my_list)\n",
    "\n",
    "my_set = set(my_list)\n",
    "print(my_set)"
   ]
  },
  {
   "cell_type": "code",
   "execution_count": 18,
   "metadata": {},
   "outputs": [
    {
     "ename": "TypeError",
     "evalue": "unhashable type: 'list'",
     "output_type": "error",
     "traceback": [
      "\u001b[1;31m---------------------------------------------------------------------------\u001b[0m",
      "\u001b[1;31mTypeError\u001b[0m                                 Traceback (most recent call last)",
      "Cell \u001b[1;32mIn [18], line 1\u001b[0m\n\u001b[1;32m----> 1\u001b[0m my_set \u001b[38;5;241m=\u001b[39m {\u001b[38;5;124m\"\u001b[39m\u001b[38;5;124mAyşe Nur\u001b[39m\u001b[38;5;124m\"\u001b[39m, \u001b[38;5;124m\"\u001b[39m\u001b[38;5;124mDuygu\u001b[39m\u001b[38;5;124m\"\u001b[39m, \u001b[38;5;124m\"\u001b[39m\u001b[38;5;124mBaşak\u001b[39m\u001b[38;5;124m\"\u001b[39m, [\u001b[38;5;124m\"\u001b[39m\u001b[38;5;124mMüzeyyen\u001b[39m\u001b[38;5;124m\"\u001b[39m, \u001b[38;5;124m\"\u001b[39m\u001b[38;5;124mİrem\u001b[39m\u001b[38;5;124m\"\u001b[39m, \u001b[38;5;124m\"\u001b[39m\u001b[38;5;124mNihal\u001b[39m\u001b[38;5;124m\"\u001b[39m]}\n\u001b[0;32m      2\u001b[0m \u001b[38;5;28mprint\u001b[39m(my_set)\n",
      "\u001b[1;31mTypeError\u001b[0m: unhashable type: 'list'"
     ]
    }
   ],
   "source": [
    "#Set içeriisinde list kullanımı. Liste değiştirilebilir old. için set içerisinde kullanılamazlar.\n",
    "my_set = {\"Ayşe Nur\", \"Duygu\", \"Başak\", [\"Müzeyyen\", \"İrem\", \"Nihal\"]}\n",
    "print(my_set)"
   ]
  },
  {
   "cell_type": "code",
   "execution_count": 19,
   "metadata": {},
   "outputs": [
    {
     "name": "stdout",
     "output_type": "stream",
     "text": [
      "{'Ayşe Nur', 'Başak', ('Müzeyyen', 'İrem', 'Nihal'), 'Duygu'}\n"
     ]
    }
   ],
   "source": [
    "#Set içeriisinde tuple kullanımı. Tuple değiştirilemez old. için set içerisinde kullanılabilir.\n",
    "my_set = {\"Ayşe Nur\", \"Duygu\", \"Başak\", (\"Müzeyyen\", \"İrem\", \"Nihal\")}\n",
    "print(my_set)"
   ]
  },
  {
   "cell_type": "markdown",
   "metadata": {},
   "source": [
    "Boş bir set oluşturma\n",
    "\n",
    "Boş bir liste ve tuple oluşturma\n",
    "* my_list = []\n",
    "* my_tuple = ()\n",
    "\n",
    "Setlerde durum farklı"
   ]
  },
  {
   "cell_type": "code",
   "execution_count": 20,
   "metadata": {},
   "outputs": [
    {
     "name": "stdout",
     "output_type": "stream",
     "text": [
      "<class 'set'>\n"
     ]
    }
   ],
   "source": [
    "empty_set = set()\n",
    "print(type(empty_set))"
   ]
  },
  {
   "cell_type": "code",
   "execution_count": 22,
   "metadata": {},
   "outputs": [
    {
     "name": "stdout",
     "output_type": "stream",
     "text": [
      "<class 'dict'>\n"
     ]
    }
   ],
   "source": [
    "empty_set = {}\n",
    "print(type(empty_set))"
   ]
  },
  {
   "cell_type": "markdown",
   "metadata": {},
   "source": [
    "**Elemanlara Erişim**\n"
   ]
  },
  {
   "cell_type": "code",
   "execution_count": 23,
   "metadata": {},
   "outputs": [
    {
     "name": "stdout",
     "output_type": "stream",
     "text": [
      "Friends\n",
      "How I met your mother\n",
      "Person of Interest\n",
      "The big bang theory\n",
      "Breaking Bad\n"
     ]
    }
   ],
   "source": [
    "movies= {\"How I met your mother\", \"The big bang theory\", \"Breaking Bad\", \"Friends\", \"Person of Interest\"}\n",
    "\n",
    "for item in movies:\n",
    "    print(item)"
   ]
  },
  {
   "cell_type": "markdown",
   "metadata": {},
   "source": [
    "Set içerisinde elaman kontrolü(0. indexe git eriş diyemiyoruz çünkü index ile erişilemezdir setler)"
   ]
  },
  {
   "cell_type": "code",
   "execution_count": 24,
   "metadata": {},
   "outputs": [
    {
     "name": "stdout",
     "output_type": "stream",
     "text": [
      "Diziler içerisinde mevcut değil\n"
     ]
    }
   ],
   "source": [
    "movies= {\"How I met your mother\", \"The big bang theory\", \"Breaking Bad\", \"Friends\", \"Person of Interest\"}\n",
    "\n",
    "if \"Harry Potter\" in movies: print(\"Diziler içerisinde mevcut\")\n",
    "else: print(\"Diziler içerisinde mevcut değil\")"
   ]
  },
  {
   "cell_type": "code",
   "execution_count": 25,
   "metadata": {},
   "outputs": [
    {
     "name": "stdout",
     "output_type": "stream",
     "text": [
      "Dizi setinin uzunluğu 5\n"
     ]
    }
   ],
   "source": [
    "print(\"Dizi setinin uzunluğu\", len(movies))"
   ]
  },
  {
   "cell_type": "markdown",
   "metadata": {},
   "source": [
    "Bir Set'e ELeman Ekleme\n",
    "\n",
    "* add() ile set'e yeni bir eleman eklenir.\n",
    "* update() ile de (extend'deki gibi birden fazla) birden fazla eleman ekleme işleme yapılır.\n"
   ]
  },
  {
   "cell_type": "code",
   "execution_count": 26,
   "metadata": {},
   "outputs": [
    {
     "name": "stdout",
     "output_type": "stream",
     "text": [
      "{'Merhaba Dünya', 'Müşterinizin Beynindeki Satın Alma Düğmesine Basmak', 'Bu İş Asla Tutmaz', 'Serenad', 'Harry Potter'}\n"
     ]
    }
   ],
   "source": [
    "books = {\"Harry Potter\", \"Serenad\", \"Müşterinizin Beynindeki Satın Alma Düğmesine Basmak\", \"Merhaba Dünya\"}\n",
    "books.add(\"Bu İş Asla Tutmaz\")\n",
    "print(books)"
   ]
  },
  {
   "cell_type": "code",
   "execution_count": 27,
   "metadata": {},
   "outputs": [
    {
     "name": "stdout",
     "output_type": "stream",
     "text": [
      "{'İnce Memed', 'Körlük', 'Merhaba Dünya', 'Müşterinizin Beynindeki Satın Alma Düğmesine Basmak', 'Bu İş Asla Tutmaz', 'Serenad', 'Harry Potter'}\n"
     ]
    }
   ],
   "source": [
    "#UPDATE\n",
    "\n",
    "books.update([\"Körlük\", \"İnce Memed\"])\n",
    "print(books)"
   ]
  },
  {
   "cell_type": "markdown",
   "metadata": {},
   "source": [
    "Bir Set içerisinden Eleman Silme\n",
    "\n",
    "* remove()\n",
    "* discard()\n",
    "* pop()\n",
    "* clear()\n",
    "* del set "
   ]
  },
  {
   "cell_type": "code",
   "execution_count": 36,
   "metadata": {},
   "outputs": [
    {
     "data": {
      "text/plain": [
       "{'Bu İş Asla Tutmaz',\n",
       " 'Merhaba Dünya',\n",
       " 'Müşterinizin Beynindeki Satın Alma Düğmesine Basmak',\n",
       " 'Serenad'}"
      ]
     },
     "execution_count": 36,
     "metadata": {},
     "output_type": "execute_result"
    }
   ],
   "source": [
    "#remove()\n",
    "\n",
    "books={'Merhaba Dünya', 'Müşterinizin Beynindeki Satın Alma Düğmesine Basmak', 'Bu İş Asla Tutmaz', 'Serenad', 'Harry Potter'}\n",
    "\n",
    "books.remove(\"Harry Potter\")\n",
    "books  #tek çıktı alacağımızda print yerine sadece books şeklinde yazarak yazdırabiliriz"
   ]
  },
  {
   "cell_type": "code",
   "execution_count": 31,
   "metadata": {},
   "outputs": [
    {
     "ename": "KeyError",
     "evalue": "'Harry'",
     "output_type": "error",
     "traceback": [
      "\u001b[1;31m---------------------------------------------------------------------------\u001b[0m",
      "\u001b[1;31mKeyError\u001b[0m                                  Traceback (most recent call last)",
      "Cell \u001b[1;32mIn [31], line 4\u001b[0m\n\u001b[0;32m      1\u001b[0m \u001b[38;5;66;03m#olmayan bir elemanı silmeye çalıştığımızda hata verir.\u001b[39;00m\n\u001b[0;32m      2\u001b[0m books\u001b[38;5;241m=\u001b[39m{\u001b[38;5;124m'\u001b[39m\u001b[38;5;124mMerhaba Dünya\u001b[39m\u001b[38;5;124m'\u001b[39m, \u001b[38;5;124m'\u001b[39m\u001b[38;5;124mMüşterinizin Beynindeki Satın Alma Düğmesine Basmak\u001b[39m\u001b[38;5;124m'\u001b[39m, \u001b[38;5;124m'\u001b[39m\u001b[38;5;124mBu İş Asla Tutmaz\u001b[39m\u001b[38;5;124m'\u001b[39m, \u001b[38;5;124m'\u001b[39m\u001b[38;5;124mSerenad\u001b[39m\u001b[38;5;124m'\u001b[39m, \u001b[38;5;124m'\u001b[39m\u001b[38;5;124mHarry Potter\u001b[39m\u001b[38;5;124m'\u001b[39m}\n\u001b[1;32m----> 4\u001b[0m books\u001b[38;5;241m.\u001b[39mremove(\u001b[38;5;124m\"\u001b[39m\u001b[38;5;124mHarry\u001b[39m\u001b[38;5;124m\"\u001b[39m)\n\u001b[0;32m      5\u001b[0m books\n",
      "\u001b[1;31mKeyError\u001b[0m: 'Harry'"
     ]
    }
   ],
   "source": [
    "#olmayan bir elemanı silmeye çalıştığımızda hata verir.\n",
    "books={'Merhaba Dünya', 'Müşterinizin Beynindeki Satın Alma Düğmesine Basmak', 'Bu İş Asla Tutmaz', 'Serenad', 'Harry Potter'}\n",
    "\n",
    "books.remove(\"Harry\")\n",
    "books"
   ]
  },
  {
   "cell_type": "code",
   "execution_count": 34,
   "metadata": {},
   "outputs": [
    {
     "data": {
      "text/plain": [
       "{'Bu İş Asla Tutmaz', 'Harry Potter', 'Merhaba Dünya', 'Serenad'}"
      ]
     },
     "execution_count": 34,
     "metadata": {},
     "output_type": "execute_result"
    }
   ],
   "source": [
    "#discard -> remove'dan tek farkı olmayan elemanı silmeye çalışırken hata alınmaz\n",
    "books.discard(\"Müşterinizin Beynindeki Satın Alma Düğmesine Basmak\")\n",
    "\n",
    "books"
   ]
  },
  {
   "cell_type": "code",
   "execution_count": 37,
   "metadata": {},
   "outputs": [
    {
     "data": {
      "text/plain": [
       "{'Bu İş Asla Tutmaz',\n",
       " 'Merhaba Dünya',\n",
       " 'Müşterinizin Beynindeki Satın Alma Düğmesine Basmak',\n",
       " 'Serenad'}"
      ]
     },
     "execution_count": 37,
     "metadata": {},
     "output_type": "execute_result"
    }
   ],
   "source": [
    "books.discard(\"Harry Potter\")\n",
    "\n",
    "books"
   ]
  },
  {
   "cell_type": "code",
   "execution_count": 45,
   "metadata": {},
   "outputs": [
    {
     "data": {
      "text/plain": [
       "{'Bu İş Asla Tutmaz',\n",
       " 'Harry Potter',\n",
       " 'Müşterinizin Beynindeki Satın Alma Düğmesine Basmak',\n",
       " 'Serenad'}"
      ]
     },
     "execution_count": 45,
     "metadata": {},
     "output_type": "execute_result"
    }
   ],
   "source": [
    "#pop() setten rastgele bir elemanı çıkarmak istediğimizde kullanılır\n",
    "#olmayan bir elemanı silmeye çalıştığımızda hata verir.\n",
    "books={'Merhaba Dünya', 'Müşterinizin Beynindeki Satın Alma Düğmesine Basmak', 'Bu İş Asla Tutmaz', 'Serenad', 'Harry Potter'}\n",
    "books.pop()\n",
    "\n",
    "books"
   ]
  },
  {
   "cell_type": "code",
   "execution_count": 46,
   "metadata": {},
   "outputs": [
    {
     "data": {
      "text/plain": [
       "set()"
      ]
     },
     "execution_count": 46,
     "metadata": {},
     "output_type": "execute_result"
    }
   ],
   "source": [
    "#clear() -> set içerisindeki tüm elemanları silme ve boş bir set oluşturur(listedeki clear gibi)\n",
    "books.clear()\n",
    "books"
   ]
  },
  {
   "cell_type": "code",
   "execution_count": 47,
   "metadata": {},
   "outputs": [
    {
     "ename": "NameError",
     "evalue": "name 'books' is not defined",
     "output_type": "error",
     "traceback": [
      "\u001b[1;31m---------------------------------------------------------------------------\u001b[0m",
      "\u001b[1;31mNameError\u001b[0m                                 Traceback (most recent call last)",
      "Cell \u001b[1;32mIn [47], line 4\u001b[0m\n\u001b[0;32m      1\u001b[0m \u001b[38;5;66;03m#del() -> seti tamamen siler ve sete erişemeyiz\u001b[39;00m\n\u001b[0;32m      3\u001b[0m \u001b[38;5;28;01mdel\u001b[39;00m books\n\u001b[1;32m----> 4\u001b[0m books\n",
      "\u001b[1;31mNameError\u001b[0m: name 'books' is not defined"
     ]
    }
   ],
   "source": [
    "#del() -> seti tamamen siler ve sete erişemeyiz(listedeki gibi)\n",
    "\n",
    "del books #(set ismi. )şeklinde değil de del set ismi şeklinde kullanılır\n",
    "\n",
    "books"
   ]
  },
  {
   "cell_type": "markdown",
   "metadata": {},
   "source": [
    "Set üzerinde kullanabileceğimiz operatörler\n",
    "\n",
    "* union() -> |\n",
    "* intersection() -> &\n",
    "* difference() -> -\n",
    "* symmetric_difference() -> ^"
   ]
  },
  {
   "cell_type": "markdown",
   "metadata": {},
   "source": [
    "**Union()**\n",
    "\n",
    "İki seti birleştirmek için kullanılır."
   ]
  },
  {
   "cell_type": "code",
   "execution_count": 48,
   "metadata": {},
   "outputs": [
    {
     "data": {
      "text/plain": [
       "{'Asena', 'Aysel', 'Behice', 'Emre', 'Ezgi', 'Hatice', 'Kübra', 'Merve'}"
      ]
     },
     "execution_count": 48,
     "metadata": {},
     "output_type": "execute_result"
    }
   ],
   "source": [
    "my_set1 = {\"Aysel\", \"Merve\", \"Emre\", \"Asena\", \"Ezgi\"}\n",
    "my_set2 = {\"Merve\", \"Ezgi\", \"Hatice\", \"Behice\", \"Kübra\"}\n",
    "\n",
    "my_set3 = my_set1 | my_set2\n",
    "\n",
    "my_set3   #2 tane olan isimleri 1 kere yazdırır.Union kümelerdeki birleşim gibi\n"
   ]
  },
  {
   "cell_type": "code",
   "execution_count": 49,
   "metadata": {},
   "outputs": [
    {
     "data": {
      "text/plain": [
       "{'Asena', 'Aysel', 'Behice', 'Emre', 'Ezgi', 'Hatice', 'Kübra', 'Merve'}"
      ]
     },
     "execution_count": 49,
     "metadata": {},
     "output_type": "execute_result"
    }
   ],
   "source": [
    "my_set4 = my_set1.union(my_set2)\n",
    "\n",
    "my_set4"
   ]
  },
  {
   "cell_type": "markdown",
   "metadata": {},
   "source": [
    "**Intersection**\n",
    "\n",
    " İki küme içerisinde yer alan ortak elemanları döndürür. (Kesişim gibi)"
   ]
  },
  {
   "cell_type": "code",
   "execution_count": 50,
   "metadata": {},
   "outputs": [
    {
     "data": {
      "text/plain": [
       "{'Ezgi', 'Merve'}"
      ]
     },
     "execution_count": 50,
     "metadata": {},
     "output_type": "execute_result"
    }
   ],
   "source": [
    "my_set1 = {\"Aysel\", \"Merve\", \"Emre\", \"Asena\", \"Ezgi\"}\n",
    "my_set2 = {\"Merve\", \"Ezgi\", \"Hatice\", \"Behice\", \"Kübra\"}\n",
    "\n",
    "my_set3 = my_set1 & my_set2 #(operatörle gösterim, ortak elemanları aldı)\n",
    "my_set3"
   ]
  },
  {
   "cell_type": "code",
   "execution_count": 51,
   "metadata": {},
   "outputs": [
    {
     "data": {
      "text/plain": [
       "{'Ezgi', 'Merve'}"
      ]
     },
     "execution_count": 51,
     "metadata": {},
     "output_type": "execute_result"
    }
   ],
   "source": [
    "my_set4 = my_set1.intersection(my_set2)\n",
    "\n",
    "my_set4"
   ]
  },
  {
   "cell_type": "markdown",
   "metadata": {},
   "source": [
    "intersection_update"
   ]
  },
  {
   "cell_type": "code",
   "execution_count": 52,
   "metadata": {},
   "outputs": [
    {
     "data": {
      "text/plain": [
       "{'Ezgi', 'Merve'}"
      ]
     },
     "execution_count": 52,
     "metadata": {},
     "output_type": "execute_result"
    }
   ],
   "source": [
    "my_set1 = {\"Aysel\", \"Merve\", \"Emre\", \"Asena\", \"Ezgi\"}\n",
    "my_set2 = {\"Merve\", \"Ezgi\", \"Hatice\", \"Behice\", \"Kübra\"}\n",
    "\n",
    "\n",
    "my_set1.intersection_update(my_set2)\n",
    "my_set1  #set1'e 2 kümenin ortak elemanlarını yüklemiş oluyor.\n"
   ]
  },
  {
   "cell_type": "markdown",
   "metadata": {},
   "source": [
    "**Difference**\n",
    "(Kümelerdeki fark gibi)\n"
   ]
  },
  {
   "cell_type": "code",
   "execution_count": 53,
   "metadata": {},
   "outputs": [
    {
     "data": {
      "text/plain": [
       "{'Asena', 'Aysel', 'Emre'}"
      ]
     },
     "execution_count": 53,
     "metadata": {},
     "output_type": "execute_result"
    }
   ],
   "source": [
    "my_set1 = {\"Aysel\", \"Merve\", \"Emre\", \"Asena\", \"Ezgi\"}\n",
    "my_set2 = {\"Merve\", \"Ezgi\", \"Hatice\", \"Behice\", \"Kübra\"}\n",
    "\n",
    "my_set3 = my_set1 - my_set2 #(set1'in set'2den farkı)\n",
    "\n",
    "my_set3\n"
   ]
  },
  {
   "cell_type": "code",
   "execution_count": 54,
   "metadata": {},
   "outputs": [
    {
     "data": {
      "text/plain": [
       "{'Asena', 'Aysel', 'Emre'}"
      ]
     },
     "execution_count": 54,
     "metadata": {},
     "output_type": "execute_result"
    }
   ],
   "source": [
    "my_set1.difference(my_set2)"
   ]
  },
  {
   "cell_type": "code",
   "execution_count": 55,
   "metadata": {},
   "outputs": [
    {
     "data": {
      "text/plain": [
       "{'Asena', 'Aysel', 'Emre', 'Ezgi', 'Merve'}"
      ]
     },
     "execution_count": 55,
     "metadata": {},
     "output_type": "execute_result"
    }
   ],
   "source": [
    "my_set1"
   ]
  },
  {
   "cell_type": "code",
   "execution_count": 56,
   "metadata": {},
   "outputs": [
    {
     "data": {
      "text/plain": [
       "{'Asena', 'Aysel', 'Emre'}"
      ]
     },
     "execution_count": 56,
     "metadata": {},
     "output_type": "execute_result"
    }
   ],
   "source": [
    "my_set1.difference_update(my_set2)\n",
    "\n",
    "my_set1  #aradaki farkı bul, kullanmak istediğin sete update et\n",
    "\n",
    "#update'de hangi kümeyi önde kullanıyosanız varolan bir set olarak eşitleniyor\n",
    "yeni bir set olarak eşitleniyor"
   ]
  },
  {
   "cell_type": "code",
   "execution_count": 57,
   "metadata": {},
   "outputs": [
    {
     "data": {
      "text/plain": [
       "{'Asena', 'Aysel', 'Behice', 'Emre', 'Hatice', 'Kübra'}"
      ]
     },
     "execution_count": 57,
     "metadata": {},
     "output_type": "execute_result"
    }
   ],
   "source": [
    "my_set1 = {\"Aysel\", \"Merve\", \"Emre\", \"Asena\", \"Ezgi\"}\n",
    "my_set2 = {\"Merve\", \"Ezgi\", \"Hatice\", \"Behice\", \"Kübra\"}\n",
    "\n",
    "unique_set = my_set1 ^ my_set2\n",
    "unique_set\n"
   ]
  },
  {
   "cell_type": "code",
   "execution_count": 58,
   "metadata": {},
   "outputs": [
    {
     "data": {
      "text/plain": [
       "{'Asena', 'Aysel', 'Behice', 'Emre', 'Hatice', 'Kübra'}"
      ]
     },
     "execution_count": 58,
     "metadata": {},
     "output_type": "execute_result"
    }
   ],
   "source": [
    "unique_set2 = my_set2.symmetric_difference(my_set1)\n",
    "unique_set2"
   ]
  },
  {
   "cell_type": "code",
   "execution_count": 59,
   "metadata": {},
   "outputs": [
    {
     "data": {
      "text/plain": [
       "{'Asena', 'Aysel', 'Behice', 'Emre', 'Hatice', 'Kübra'}"
      ]
     },
     "execution_count": 59,
     "metadata": {},
     "output_type": "execute_result"
    }
   ],
   "source": [
    "my_set1.symmetric_difference_update(my_set2)\n",
    "\n",
    "my_set1 #set1'e update edildiği için  behice kübra da geldi"
   ]
  },
  {
   "cell_type": "markdown",
   "metadata": {},
   "source": [
    "**Kopyalama İşlemleri**\n",
    "* copy()\n",
    "* ="
   ]
  },
  {
   "cell_type": "code",
   "execution_count": 60,
   "metadata": {},
   "outputs": [
    {
     "data": {
      "text/plain": [
       "{18, 'Ahmet', 'Sezen', True, 'Vildan'}"
      ]
     },
     "execution_count": 60,
     "metadata": {},
     "output_type": "execute_result"
    }
   ],
   "source": [
    "#atama(=) operatörü ile\n",
    "my_set = {\"Sezen\", \"Ahmet\", True, 18}\n",
    "my_set2 = my_set\n",
    "\n",
    "my_set.add(\"Vildan\")\n",
    "my_set2"
   ]
  },
  {
   "cell_type": "code",
   "execution_count": 61,
   "metadata": {},
   "outputs": [
    {
     "data": {
      "text/plain": [
       "{18, 'Ahmet', 'Sezen', True}"
      ]
     },
     "execution_count": 61,
     "metadata": {},
     "output_type": "execute_result"
    }
   ],
   "source": [
    "#copy metodu ile\n",
    "my_set = {\"Sezen\", \"Ahmet\", True, 18}\n",
    "my_set2 = my_set.copy()\n",
    "\n",
    "my_set.add(\"Vildan\") #myset'e yaptığımız ekleme myset2'yi etkilemedi copy ile yaptığımızda\n",
    "my_set2"
   ]
  },
  {
   "cell_type": "code",
   "execution_count": 62,
   "metadata": {},
   "outputs": [
    {
     "data": {
      "text/plain": [
       "{18, 'Ahmet', 'Sezen', True}"
      ]
     },
     "execution_count": 62,
     "metadata": {},
     "output_type": "execute_result"
    }
   ],
   "source": [
    "#set metodu ile\n",
    "my_set = {\"Sezen\", \"Ahmet\", True, 18}\n",
    "my_set2 = set(my_set)\n",
    "\n",
    "my_set.add(\"Vildan\") #set ve copy ile eklemelerde bağımsız oluyor setler birbirinden\n",
    "# = operatöründe ise 2 set bağımlı oluyor. Ynai yapılan değişiklikler her 2 seti de etkiliyor\n",
    "my_set2"
   ]
  },
  {
   "cell_type": "markdown",
   "metadata": {},
   "source": [
    "subset(alt küme) and superset(üst küme)\n"
   ]
  },
  {
   "cell_type": "code",
   "execution_count": 63,
   "metadata": {},
   "outputs": [
    {
     "name": "stdout",
     "output_type": "stream",
     "text": [
      "True\n",
      "True\n"
     ]
    }
   ],
   "source": [
    "languages1 = {\"Python\", \"c#\", \"java\", \"kotlin\", \"dart\"}\n",
    "languages2 = {\"kotlin\", \"java\"}\n",
    "\n",
    "print(languages1.issuperset(languages2)) #l1, l2nin üst kümesi mi\n",
    "print(languages2.issubset(languages1)) # l2, l1in alt kümesi mi"
   ]
  },
  {
   "cell_type": "markdown",
   "metadata": {},
   "source": [
    "isdisjoint() -> iki kümenin ayrık kümeler olup olmadığını kontrol eder. Ayrık ise True döndürür, değil ise False döndürür"
   ]
  },
  {
   "cell_type": "code",
   "execution_count": 66,
   "metadata": {},
   "outputs": [
    {
     "name": "stdout",
     "output_type": "stream",
     "text": [
      "True\n"
     ]
    }
   ],
   "source": [
    "languages1 = {\"Python\", \"c#\", \"java\", \"kotlin\", \"dart\"}\n",
    "languages2 = {\"flutter\"}\n",
    "\n",
    "print(languages1.isdisjoint(languages2)) #ortak eleman olmadığı için ayrık kümedir\n"
   ]
  },
  {
   "cell_type": "markdown",
   "metadata": {},
   "source": [
    "Frozenset -> değişmez bir set oluşturmak istenildiğinde kullanılır."
   ]
  },
  {
   "cell_type": "code",
   "execution_count": 67,
   "metadata": {},
   "outputs": [],
   "source": [
    "frozen_set = frozenset({\"Nihan\", \"Edanur\", \"Buse\", \"Sena\"})"
   ]
  },
  {
   "cell_type": "code",
   "execution_count": 69,
   "metadata": {},
   "outputs": [
    {
     "ename": "AttributeError",
     "evalue": "'frozenset' object has no attribute 'add'",
     "output_type": "error",
     "traceback": [
      "\u001b[1;31m---------------------------------------------------------------------------\u001b[0m",
      "\u001b[1;31mAttributeError\u001b[0m                            Traceback (most recent call last)",
      "Cell \u001b[1;32mIn [69], line 1\u001b[0m\n\u001b[1;32m----> 1\u001b[0m frozen_set\u001b[38;5;241m.\u001b[39madd(\u001b[38;5;241m6\u001b[39m)\n",
      "\u001b[1;31mAttributeError\u001b[0m: 'frozenset' object has no attribute 'add'"
     ]
    }
   ],
   "source": [
    "frozen_set.add(6)  #6yı eklemez hata verir. Çünkü frozenset ile değişmez bir set oluşturduk, ekleme çıkarma yapamayız.\n"
   ]
  },
  {
   "cell_type": "code",
   "execution_count": 70,
   "metadata": {},
   "outputs": [
    {
     "name": "stdout",
     "output_type": "stream",
     "text": [
      "{10, 80, 20, 60, 30}\n"
     ]
    }
   ],
   "source": [
    "#iki set içerisinde yer alan benzersiz elemanları ekrana basalım\n",
    "my_set1 = {10, 20, 30, 40, 50}\n",
    "my_set2 = {40, 50, 60, 80}\n",
    "\n",
    "print(my_set1.symmetric_difference(my_set2))"
   ]
  },
  {
   "cell_type": "code",
   "execution_count": 72,
   "metadata": {},
   "outputs": [
    {
     "data": {
      "text/plain": [
       "{0, 1, 2, 3, 4, 7, 9}"
      ]
     },
     "execution_count": 72,
     "metadata": {},
     "output_type": "execute_result"
    }
   ],
   "source": [
    "#Bir listenin tüm elemanlarını bir sete ekleme işlemini yapalım\n",
    "my_list = [1, 2, 9, 3, 4]\n",
    "my_set = {1, 4, 7, 9, 0}\n",
    "\n",
    "my_set.update(my_list)\n",
    "my_set"
   ]
  },
  {
   "cell_type": "code",
   "execution_count": 76,
   "metadata": {},
   "outputs": [
    {
     "data": {
      "text/plain": [
       "{1, 3, 5, 7, 9}"
      ]
     },
     "execution_count": 76,
     "metadata": {},
     "output_type": "execute_result"
    }
   ],
   "source": [
    "#Bir set içerisinde yer alan çift sayıları sil\n",
    "\n",
    "my_set = {1, 2, 3, 4, 5, 6, 7, 8, 9, 10}\n",
    "my_list = []\n",
    "for item in my_set:\n",
    "    if item % 2 == 0:\n",
    "        my_list.append(item)  #çift sayıları bir listeye ekledik\n",
    "      \n",
    "\n",
    "for i in my_list:\n",
    "      my_set.remove(i) #sonrada çift sayıları setten kaldırdık. Remove'ı direkt döngü içerisinde kullandığımızda hata veriyor. \n",
    "\n",
    "my_set\n",
    "        "
   ]
  },
  {
   "cell_type": "code",
   "execution_count": 79,
   "metadata": {},
   "outputs": [
    {
     "data": {
      "text/plain": [
       "[2, 4, 6, 8, 10]"
      ]
     },
     "execution_count": 79,
     "metadata": {},
     "output_type": "execute_result"
    }
   ],
   "source": [
    "my_set = {1, 2, 3, 4, 5, 6, 7, 8, 9, 10}\n",
    "my_list = [i for i in my_set if i % 2 == 0] #i değerlerini al ve myset'e liste olarak ekle\n",
    "\n",
    "my_list #yukarıdaki çözümün kısa hali"
   ]
  },
  {
   "cell_type": "code",
   "execution_count": 80,
   "metadata": {},
   "outputs": [
    {
     "data": {
      "text/plain": [
       "{1, 3, 5, 7, 9}"
      ]
     },
     "execution_count": 80,
     "metadata": {},
     "output_type": "execute_result"
    }
   ],
   "source": [
    "my_set = {1, 2, 3, 4, 5, 6, 7, 8, 9, 10}\n",
    "my_list = [i for i in my_set if i % 2 == 0] #i değerlerini al ve myset'e liste olarak ekle\n",
    "\n",
    "for i in my_list:\n",
    "    my_set.remove(i)\n",
    "\n",
    "my_set\n",
    "\n",
    "#list comprehension diye geçer bunla ilgili örnek çöz"
   ]
  }
 ],
 "metadata": {
  "kernelspec": {
   "display_name": "Python 3.10.7 64-bit (microsoft store)",
   "language": "python",
   "name": "python3"
  },
  "language_info": {
   "codemirror_mode": {
    "name": "ipython",
    "version": 3
   },
   "file_extension": ".py",
   "mimetype": "text/x-python",
   "name": "python",
   "nbconvert_exporter": "python",
   "pygments_lexer": "ipython3",
   "version": "3.10.8"
  },
  "orig_nbformat": 4,
  "vscode": {
   "interpreter": {
    "hash": "5ee8566cd02fc12b012a18b99b3a82438b9e224a90e590f4237ed03c182601f5"
   }
  }
 },
 "nbformat": 4,
 "nbformat_minor": 2
}
