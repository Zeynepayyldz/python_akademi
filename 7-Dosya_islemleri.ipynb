{
 "cells": [
  {
   "cell_type": "markdown",
   "metadata": {},
   "source": [
    "**Dosyalama İşlemleri**\n",
    "\n",
    "* Dosyayı açma\n",
    "* Dosyadan veri okuma\n",
    "* Dosyaya yazma\n",
    "* Dosya kapatma"
   ]
  },
  {
   "cell_type": "markdown",
   "metadata": {},
   "source": [
    "open(\"dosya_yolu\", \"erisim_modu\")"
   ]
  },
  {
   "cell_type": "markdown",
   "metadata": {},
   "source": [
    "* w -> Dosyayı yazma amacıyla açar. Bir dosya zaten varsa dosyanın üzerine yazar.(write-yazma modu)\n",
    "* a -> Ekleme modunda dosyayı açar. Dosyanın sonuna yeni satırlar ekler. (append)"
   ]
  },
  {
   "cell_type": "code",
   "execution_count": 25,
   "metadata": {},
   "outputs": [],
   "source": [
    "f = open(\"names.txt\", \"w\", encoding=\"utf-8\")\n",
    "f.write(\"Zeynep\")\n",
    "f.write(\"Müzeyyen\")\n",
    "f.write(\"Duygu\")\n",
    "f.write(\"İrem\")\n",
    "f.write(\"Ayşe Nur\")\n",
    "f.close()"
   ]
  },
  {
   "cell_type": "code",
   "execution_count": 26,
   "metadata": {},
   "outputs": [],
   "source": [
    "f=open(\"names.txt\", \"a\", encoding=\"utf-8\")\n",
    "f.write(\"Bilge\")\n",
    "f.close()"
   ]
  },
  {
   "cell_type": "code",
   "execution_count": 27,
   "metadata": {},
   "outputs": [],
   "source": [
    "my_list = [\"Sude\", \"Edanur\", \"Nihan\", \"Zeynep\", \"Menekşe\"]\n",
    "f = open(\"names2.txt\", \"w\", encoding=\"utf-8\")\n",
    "for name in my_list:\n",
    "    f.write(name + \"\\n\")\n",
    "f.close()"
   ]
  },
  {
   "cell_type": "code",
   "execution_count": 105,
   "metadata": {},
   "outputs": [
    {
     "name": "stdout",
     "output_type": "stream",
     "text": [
      "['.git', '.gitignore', '.ipynb_checkpoints', '1-PythonaGiris.ipynb', '2-Donguler.ipynb', '23-10-2022-11-14-43.txt', '23-10-2022.txt', '4-fonksiyonlar.ipynb', '5-lambda_filter_map.ipynb', '5-lambda_filter_map_old.ipynb', '5-Listeler.ipynb', '5-Tuple.ipynb', '5-VeriYapilari_Tuple.ipynb', '6-VeriYapilari_Dictionary.ipynb', '6-VeriYapilari_Set.ipynb', '7-Dosya_islemleri.ipynb', '7-Dosya_Odev.ipynb', '7-Dosya_Ornegi', '7-Exceptions.ipynb', '7-VeriYapilari_Odev.ipynb', 'greetings.txt', 'homework4.ipynb', 'names.txt', 'README.md', 'surname.txt', 'uygulama_seanss.ipynb', 'uygulama_seansı5.ipynb', 'womenintech_akademi_odev.ipynb']\n"
     ]
    }
   ],
   "source": [
    "#bir dosyanın varlığının olup olmadığını operational sisteym\n",
    "import os\n",
    "\n",
    "print(os.listdir())"
   ]
  },
  {
   "cell_type": "code",
   "execution_count": 106,
   "metadata": {},
   "outputs": [
    {
     "name": "stdout",
     "output_type": "stream",
     "text": [
      "True\n"
     ]
    }
   ],
   "source": [
    "print(os.path.isfile(\"names.txt\"))   #dosya yolunda ilgili aradığım dosya var mı yok mu\n"
   ]
  },
  {
   "cell_type": "code",
   "execution_count": 96,
   "metadata": {},
   "outputs": [
    {
     "name": "stdout",
     "output_type": "stream",
     "text": [
      "False\n"
     ]
    }
   ],
   "source": [
    "print(os.path.isfile(\"surnames.txt\")) "
   ]
  },
  {
   "cell_type": "markdown",
   "metadata": {},
   "source": [
    "Farklı bir dizinde dosya kontrolü"
   ]
  },
  {
   "cell_type": "code",
   "execution_count": 28,
   "metadata": {},
   "outputs": [],
   "source": [
    "f = open(r'C:\\Users\\Abdullah\\Desktop\\hello.txt', \"w\")\n",
    "my_list = [\"Sude\", \"Edanur\", \"Nihan\", \"Zeynep\", \"Menekşe\"]\n",
    "\n",
    "for i in my_list:\n",
    "    f.write(i + \"\\n\")\n",
    "    \n",
    "f.close()\n"
   ]
  },
  {
   "cell_type": "code",
   "execution_count": 17,
   "metadata": {},
   "outputs": [],
   "source": [
    "with open(\"greetings.txt\", \"w\") as f:\n",
    "    f.write(\"Hellooooo\")   #open close ile açıp kapatmaktansa with open ile açılır ve kapatma işlemini otomatik yapar\n"
   ]
  },
  {
   "cell_type": "code",
   "execution_count": 109,
   "metadata": {},
   "outputs": [],
   "source": [
    "#bir üst dizinde\n",
    "with open(\"7-Dosya_Ornegi/names2.txt\", \"w\") as f:\n",
    "    f.write(\"Muzeyyen\")"
   ]
  },
  {
   "cell_type": "code",
   "execution_count": 110,
   "metadata": {},
   "outputs": [
    {
     "name": "stdout",
     "output_type": "stream",
     "text": [
      "Now:  2022-10-24 14:53:10.276651\n",
      "Gün ay yıl:   24-10-2022\n",
      "Gün ay yıl saat:   24-10-2022 14:53:10\n",
      "Farklı dizinde gün ay yıl saat24-10-2022 14:53:10\n"
     ]
    }
   ],
   "source": [
    "#Belirli aralıklarla çalışan bir kodun, her seferinde o anın \n",
    "# tarih ve saat bilgilerini alarak bir dosya oluşturduğunu varsayalım\n",
    "\n",
    "\n",
    "from datetime import datetime\n",
    "time = datetime.now()\n",
    "print(\"Now: \", time)\n",
    "\n",
    "#gün ay yıl olacak şekilde sıralaması\n",
    "print(\"Gün ay yıl:  \", time.strftime(\"%d-%m-%Y\"))\n",
    "file_name = time.strftime(\"%d-%m-%Y.txt\")  #gün ay yıl için bu standartlar internetten bakılabilir\n",
    "with open(file_name, \"w\", encoding=\"utf-8\") as f:\n",
    "    f.write(\"gün ay yıl\" + file_name)\n",
    "\n",
    "#gün ay yıl saat dakika bilgisi(saniye salise olmadan) ekleyelim\n",
    "print(\"Gün ay yıl saat:  \", time.strftime(\"%d-%m-%Y %H:%M:%S\"))\n",
    "file_name2 = time.strftime(\"%d-%m-%Y-%H-%M-%S.txt\")\n",
    "with open(file_name2, \"w\", encoding=\"utf-8\") as f:\n",
    "    f.write(\"gün ay yıl saat\" + time.strftime(\"%d-%m-%Y %H:%M:%S\"))\n",
    "\n",
    "#farklı dizinde dosyayı oluşturma\n",
    "print(\"Farklı dizinde gün ay yıl saat\" + time.strftime(\"%d-%m-%Y %H:%M:%S\"))\n",
    "file_name3 =time.strftime(\"%d-%m-%Y-%H-%M-%S.txt\")\n",
    "with open(\"7-Dosya_Ornegi/dosya2/\" + file_name3, \"w\") as f:\n",
    "    f.write(\"Farklı dizinde gün ay yıl saat\" + time.strftime(\"%d-%m-%Y %H:%M:%S\"))\n"
   ]
  },
  {
   "cell_type": "markdown",
   "metadata": {},
   "source": [
    "* Dosya Okuma"
   ]
  },
  {
   "cell_type": "code",
   "execution_count": 29,
   "metadata": {},
   "outputs": [
    {
     "name": "stdout",
     "output_type": "stream",
     "text": [
      "Sude\n",
      "Edanur\n",
      "Nihan\n",
      "Zeynep\n",
      "MenekÅŸe\n",
      "\n"
     ]
    }
   ],
   "source": [
    "with open(\"names2.txt\", \"r\") as f:\n",
    "    print(f.read())"
   ]
  },
  {
   "cell_type": "code",
   "execution_count": 100,
   "metadata": {},
   "outputs": [
    {
     "ename": "FileNotFoundError",
     "evalue": "[Errno 2] No such file or directory: 'surnames.txt'",
     "output_type": "error",
     "traceback": [
      "\u001b[1;31m---------------------------------------------------------------------------\u001b[0m",
      "\u001b[1;31mFileNotFoundError\u001b[0m                         Traceback (most recent call last)",
      "Cell \u001b[1;32mIn [100], line 1\u001b[0m\n\u001b[1;32m----> 1\u001b[0m \u001b[39mwith\u001b[39;00m \u001b[39mopen\u001b[39m(\u001b[39m\"\u001b[39m\u001b[39msurnames.txt\u001b[39m\u001b[39m\"\u001b[39m, \u001b[39m\"\u001b[39m\u001b[39mr\u001b[39m\u001b[39m\"\u001b[39m, encoding\u001b[39m=\u001b[39m\u001b[39m\"\u001b[39m\u001b[39mutf-8\u001b[39m\u001b[39m\"\u001b[39m) \u001b[39mas\u001b[39;00m f:\n\u001b[0;32m      2\u001b[0m     \u001b[39mprint\u001b[39m(f\u001b[39m.\u001b[39mread())\n",
      "\u001b[1;31mFileNotFoundError\u001b[0m: [Errno 2] No such file or directory: 'surnames.txt'"
     ]
    }
   ],
   "source": [
    "#var olmayan bir dosyayı okumaya çalıştığımızda hata alırız.\n",
    "with open(\"surnames.txt\", \"r\", encoding=\"utf-8\") as f:\n",
    "    print(f.read())"
   ]
  },
  {
   "cell_type": "code",
   "execution_count": 25,
   "metadata": {},
   "outputs": [
    {
     "ename": "FileNotFoundError",
     "evalue": "[Errno 2] No such file or directory: 'surname.txt'",
     "output_type": "error",
     "traceback": [
      "\u001b[1;31m---------------------------------------------------------------------------\u001b[0m",
      "\u001b[1;31mFileNotFoundError\u001b[0m                         Traceback (most recent call last)",
      "Cell \u001b[1;32mIn [25], line 1\u001b[0m\n\u001b[1;32m----> 1\u001b[0m \u001b[39mwith\u001b[39;00m \u001b[39mopen\u001b[39m(\u001b[39m\"\u001b[39m\u001b[39msurname.txt\u001b[39m\u001b[39m\"\u001b[39m, \u001b[39m\"\u001b[39m\u001b[39mr\u001b[39m\u001b[39m\"\u001b[39m) \u001b[39mas\u001b[39;00m f:\n\u001b[0;32m      2\u001b[0m     \u001b[39mprint\u001b[39m(f\u001b[39m.\u001b[39mread())\n",
      "\u001b[1;31mFileNotFoundError\u001b[0m: [Errno 2] No such file or directory: 'surname.txt'"
     ]
    }
   ],
   "source": [
    "with open(\"surname.txt\", \"r\") as f:\n",
    "    print(f.read())"
   ]
  },
  {
   "cell_type": "code",
   "execution_count": 26,
   "metadata": {},
   "outputs": [
    {
     "name": "stdout",
     "output_type": "stream",
     "text": [
      "Dosya belirtilen dizinde bulunamadı\n"
     ]
    }
   ],
   "source": [
    "# okuma işlemi öncesinde dosya kontrolü\n",
    "\n",
    "import os\n",
    "\n",
    "if os.path.exists(\"surname.txt\"):\n",
    "    with open(\"surname.txt\", \"r\") as f:\n",
    "        print(f.read())\n",
    "else:\n",
    "    print(\"Dosya belirtilen dizinde bulunamadı\")"
   ]
  },
  {
   "cell_type": "code",
   "execution_count": 31,
   "metadata": {},
   "outputs": [
    {
     "name": "stdout",
     "output_type": "stream",
     "text": [
      "Abdullah\n",
      "\n"
     ]
    }
   ],
   "source": [
    "import os  #dosya bulunamadı yerine dosya oluşturup \n",
    "\n",
    "def read_file():\n",
    "    with open(\"surname.txt\", \"r\") as f:\n",
    "        print(f.read())\n",
    "\n",
    "if os.path.exists(\"surname.txt\"):\n",
    "    read_file()\n",
    "else:\n",
    "    my_list = [\"Sude\", \"İrem\", \"Nihan\", \"Zeynep\", \"Menekşe\"]\n",
    "    f = open(\"surname.txt\", \"w\")\n",
    "    for name in my_list:\n",
    "        f.write(name + \"\\n\")\n",
    "    f.close()\n",
    "    read_file()\n"
   ]
  },
  {
   "cell_type": "code",
   "execution_count": 121,
   "metadata": {},
   "outputs": [
    {
     "name": "stdout",
     "output_type": "stream",
     "text": [
      "Sude\n",
      "İrem\n",
      "Nihan\n",
      "Zeynep\n",
      "Menekşe\n",
      "\n"
     ]
    }
   ],
   "source": [
    "#yukardaki örneğin  aynısının with open ile yapılmış hali\n",
    "import os\n",
    "\n",
    "def read_file():\n",
    "    with open(\"surname.txt\", \"r\") as f:\n",
    "        print(f.read())\n",
    "\n",
    "if os.path.exists(\"surname.txt\"):  #bu dosya var mı yok mu soruyor\n",
    "    read_file()   #read file fonksiyonunu çağırır\n",
    "else:\n",
    "    my_list = [\"Sude\", \"İrem\", \"Nihan\", \"Zeynep\", \"Menekşe\"]\n",
    "    with open(\"surname.txt\", \"w\") as f:\n",
    "        for name in my_list:\n",
    "            f.write(name + \"\\n\")\n",
    "    \n",
    "    read_file()\n"
   ]
  },
  {
   "cell_type": "markdown",
   "metadata": {},
   "source": [
    "**Dosya Okuma Yöntemleri**\n",
    "\n",
    "readline() -> Satır satır okuma işlemi yapar  (\\n ile alt satıra iner)"
   ]
  },
  {
   "cell_type": "code",
   "execution_count": 122,
   "metadata": {},
   "outputs": [
    {
     "name": "stdout",
     "output_type": "stream",
     "text": [
      "Sude\n",
      "\n",
      "İrem\n",
      "\n",
      "Nihan\n",
      "\n",
      "Zeynep\n",
      "\n",
      "Menekşe\n",
      "\n"
     ]
    }
   ],
   "source": [
    "with open(\"surname.txt\", \"r\") as f:\n",
    "        lines = f.readlines()\n",
    "        for i in lines:\n",
    "            print(i)"
   ]
  },
  {
   "cell_type": "code",
   "execution_count": 117,
   "metadata": {},
   "outputs": [
    {
     "ename": "UnsupportedOperation",
     "evalue": "not writable",
     "output_type": "error",
     "traceback": [
      "\u001b[1;31m---------------------------------------------------------------------------\u001b[0m",
      "\u001b[1;31mUnsupportedOperation\u001b[0m                      Traceback (most recent call last)",
      "Cell \u001b[1;32mIn [117], line 3\u001b[0m\n\u001b[0;32m      1\u001b[0m \u001b[39m#okuma modunda açılan bir dosyaya ekleme yapmak istersek hata alırız\u001b[39;00m\n\u001b[0;32m      2\u001b[0m \u001b[39mwith\u001b[39;00m \u001b[39mopen\u001b[39m(\u001b[39m\"\u001b[39m\u001b[39msurname.txt\u001b[39m\u001b[39m\"\u001b[39m, \u001b[39m\"\u001b[39m\u001b[39mr\u001b[39m\u001b[39m\"\u001b[39m) \u001b[39mas\u001b[39;00m f:\n\u001b[1;32m----> 3\u001b[0m     f\u001b[39m.\u001b[39mwrite(\u001b[39m\"\u001b[39m\u001b[39mŞule\u001b[39m\u001b[39m\"\u001b[39m)\n",
      "\u001b[1;31mUnsupportedOperation\u001b[0m: not writable"
     ]
    }
   ],
   "source": [
    "#okuma modunda açılan bir dosyaya ekleme yapmak istersek hata alırız\n",
    "with open(\"surname.txt\", \"r\") as f:\n",
    "    f.write(\"Şule\")  #bu dosya yazmaya uygun değil. Okumak için açıldı yazmak için değil\n"
   ]
  },
  {
   "cell_type": "code",
   "execution_count": 123,
   "metadata": {},
   "outputs": [
    {
     "name": "stdout",
     "output_type": "stream",
     "text": [
      "Sude\n",
      "İrem\n",
      "Nihan\n",
      "Zeynep\n",
      "Menekşe\n",
      "\n"
     ]
    }
   ],
   "source": [
    "#\"r+\" ile ilk okuma ve sonra yazma yapılabilir.\n",
    "with open(\"surname.txt\", \"r+\") as f:\n",
    "    print(f.read())\n",
    "    f.write(\"şule\\n\")\n",
    "   "
   ]
  },
  {
   "cell_type": "code",
   "execution_count": 124,
   "metadata": {},
   "outputs": [
    {
     "name": "stdout",
     "output_type": "stream",
     "text": [
      "Sude\n",
      "\n",
      "İrem\n",
      "\n",
      "Nihan\n",
      "\n",
      "Zeynep\n",
      "\n",
      "Menekşe\n",
      "\n",
      "şule\n",
      "\n"
     ]
    }
   ],
   "source": [
    "with open(\"surname.txt\", \"r\") as f:\n",
    "    lines = f.readlines()\n",
    "    for i in lines:\n",
    "        print(i)"
   ]
  },
  {
   "cell_type": "code",
   "execution_count": 125,
   "metadata": {},
   "outputs": [
    {
     "name": "stdout",
     "output_type": "stream",
     "text": [
      "şule\n",
      "\n",
      "Menekşe\n",
      "\n",
      "Zeynep\n",
      "\n",
      "Nihan\n",
      "\n",
      "İrem\n",
      "\n",
      "Sude\n",
      "\n"
     ]
    }
   ],
   "source": [
    "with open(\"surname.txt\", \"r\") as f:\n",
    "    lines = f.readlines()\n",
    "    for i in reversed(lines):  #tersten okuma\n",
    "        print(i)"
   ]
  },
  {
   "cell_type": "markdown",
   "metadata": {},
   "source": [
    "Dosya Yazma\n",
    "\n",
    "* w\n",
    "* w+ (hem okuma hem yazma modu, r+dan farkı içeriğini siliyor ondan sonra yazmaya başlıyor. r+'da ik okuma sonra yazma yapar, w+daki gibi içeriği ezme yapmaz)\n",
    "* a (dosya sonuna ekleme yapıyor, içerik silme yapmıyordu)\n",
    "* a+ (hem okuma hem yazma. Farkı mevcut dosya varsa onun üzerine yazmıyor,  dosya sonuna ekleme yaparak ilerleme yapıyor)"
   ]
  },
  {
   "cell_type": "markdown",
   "metadata": {},
   "source": [
    "**Dosya Yazma Yöntemleri**\n",
    "veri değişikliği istemiyorsam işlem yapmayacaksam read modunda açılır\n",
    "\n",
    "* write() -1 eleman ekleme\n",
    "* writelines() -1'den fazla eleman eklemeye izin verir"
   ]
  },
  {
   "cell_type": "code",
   "execution_count": 126,
   "metadata": {},
   "outputs": [],
   "source": [
    "with open(\"names.txt\", \"w\") as f:\n",
    "    f.write(\"merve\")"
   ]
  },
  {
   "cell_type": "code",
   "execution_count": 127,
   "metadata": {},
   "outputs": [],
   "source": [
    "with open(\"names.txt\", \"w\") as f:\n",
    "    f.writelines([\"Basak\", \"\\nDilara\", \"\\nCevik\"])"
   ]
  },
  {
   "cell_type": "markdown",
   "metadata": {},
   "source": [
    "**Dosya Arama**\n",
    "\n",
    "* file.seek(imleç_konumu) -> imlecin nereden başlanacağı bilgisi\n",
    "\n",
    "1-mevcut konum nerdeyse\n",
    "\n",
    "2-dosyanın sonu\n",
    "\n",
    "0-dosyanın başlangıcı\n",
    "\n",
    "* file.seek(8) -> 8 karakter sonra başla\n",
    "* file.seek(0,2) -> tersten okuyarak ilerlemesini söyler\n",
    "* file.seek(4,1) -> 4 adım gitsin 1 konumunda. geçerli konumunu koru 4 adım ileri git\n",
    "\n",
    "* file.seek(-4,1) -> mevcut konumunu koru, imleçten 4 adım geri git\n",
    "\n",
    "* file.seek(-4,2) -> sona git 4 karakter "
   ]
  },
  {
   "cell_type": "code",
   "execution_count": 128,
   "metadata": {},
   "outputs": [
    {
     "name": "stdout",
     "output_type": "stream",
     "text": [
      "de\n",
      "İrem\n",
      "Nihan\n",
      "Zeynep\n",
      "Menekşe\n",
      "şule\n",
      "\n"
     ]
    }
   ],
   "source": [
    "with open(\"surname.txt\", \"r\") as f:\n",
    "    f.seek(2)    #sudenin su'su gitti. 2.karakter sonra başla\n",
    "    print(f.read())"
   ]
  },
  {
   "cell_type": "code",
   "execution_count": 142,
   "metadata": {},
   "outputs": [
    {
     "name": "stdout",
     "output_type": "stream",
     "text": [
      "ule\n",
      "\n"
     ]
    }
   ],
   "source": [
    "with open(\"surname.txt\", \"rb\") as f:\n",
    "    f.seek(-5,2)   \n",
    "    print(f.read().decode(\"utf-8\"))"
   ]
  },
  {
   "cell_type": "markdown",
   "metadata": {},
   "source": [
    "**Dosyayı yeniden adlandırma**\n"
   ]
  },
  {
   "cell_type": "code",
   "execution_count": 92,
   "metadata": {},
   "outputs": [],
   "source": [
    "import os\n",
    "\n",
    "os.rename(\"names2.txt\", \"name_list.txt\")\n",
    "\n",
    "#Var olmayan bir dosyanın ismini değiştirmek istedğimizde hata alırız.\n"
   ]
  },
  {
   "cell_type": "markdown",
   "metadata": {},
   "source": [
    "**Dosya silme**\n"
   ]
  },
  {
   "cell_type": "code",
   "execution_count": 93,
   "metadata": {},
   "outputs": [],
   "source": [
    "import os\n",
    "\n",
    "os.remove(\"name_list.txt\")\n",
    "\n",
    "#Var olmayan bir dosyayı silmeye çalışırsak istedğimizde hata alırız."
   ]
  },
  {
   "cell_type": "code",
   "execution_count": 143,
   "metadata": {},
   "outputs": [
    {
     "name": "stdout",
     "output_type": "stream",
     "text": [
      "ule\n",
      "\n"
     ]
    }
   ],
   "source": [
    "with open(\"surname.txt\", \"rb\") as f:\n",
    "    f.seek(-5, 2)\n",
    "    print(f.read().decode(\"utf-8\"))\n"
   ]
  }
 ],
 "metadata": {
  "kernelspec": {
   "display_name": "Python 3.10.8 64-bit (microsoft store)",
   "language": "python",
   "name": "python3"
  },
  "language_info": {
   "codemirror_mode": {
    "name": "ipython",
    "version": 3
   },
   "file_extension": ".py",
   "mimetype": "text/x-python",
   "name": "python",
   "nbconvert_exporter": "python",
   "pygments_lexer": "ipython3",
   "version": "3.10.8"
  },
  "orig_nbformat": 4,
  "vscode": {
   "interpreter": {
    "hash": "5ee8566cd02fc12b012a18b99b3a82438b9e224a90e590f4237ed03c182601f5"
   }
  }
 },
 "nbformat": 4,
 "nbformat_minor": 2
}
