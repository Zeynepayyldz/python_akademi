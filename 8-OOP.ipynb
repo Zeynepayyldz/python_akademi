{
 "cells": [
  {
   "cell_type": "markdown",
   "metadata": {},
   "source": [
    "Nesne Tabanlı Programlama (OOP)\n",
    "\n"
   ]
  },
  {
   "cell_type": "markdown",
   "metadata": {},
   "source": [
    "Bir sınıf tanımlaması yapmak için ;\n",
    "\n",
    "* class sinif_adi():\n",
    "     body\n",
    "\n",
    "\n",
    "\n",
    "* class sinif_adi:\n",
    "     body"
   ]
  },
  {
   "cell_type": "markdown",
   "metadata": {},
   "source": [
    "* class(sınıf)\n",
    "* object(nesne)\n",
    "* attributes(özellik)\n",
    "* metod"
   ]
  },
  {
   "cell_type": "code",
   "execution_count": 1,
   "metadata": {},
   "outputs": [],
   "source": [
    "class Araba:\n",
    "    plaka = \"\"\n",
    "    vites_tipi = \"\"\n",
    "    marka = \"\"\n",
    "    renk = \"\""
   ]
  },
  {
   "cell_type": "code",
   "execution_count": 2,
   "metadata": {},
   "outputs": [],
   "source": [
    "audi = Araba()\n",
    "audi.marka = \"Audi\"\n",
    "audi.plaka = \"45 PYTHON 34\"\n",
    "audi.renk = \"SİYAH\"\n",
    "audi.vites_tipi = \"Manuel\""
   ]
  },
  {
   "cell_type": "code",
   "execution_count": 4,
   "metadata": {},
   "outputs": [
    {
     "name": "stdout",
     "output_type": "stream",
     "text": [
      "45 PYTHON 34\n"
     ]
    }
   ],
   "source": [
    "print(audi.plaka)"
   ]
  },
  {
   "cell_type": "code",
   "execution_count": 5,
   "metadata": {},
   "outputs": [],
   "source": [
    "bmw = Araba()\n",
    "bmw.marka = \"BMW\"\n",
    "bmw.plaka = \"34 PYTHON 35\"\n",
    "bmw.renk = \"KIRMIZI\"\n",
    "bmw.vites_tipi = \"Otomatik\""
   ]
  },
  {
   "cell_type": "code",
   "execution_count": 8,
   "metadata": {},
   "outputs": [
    {
     "data": {
      "text/plain": [
       "'Otomatik'"
      ]
     },
     "execution_count": 8,
     "metadata": {},
     "output_type": "execute_result"
    }
   ],
   "source": [
    "bmw.vites_tipi\n"
   ]
  },
  {
   "cell_type": "code",
   "execution_count": 9,
   "metadata": {},
   "outputs": [
    {
     "name": "stdout",
     "output_type": "stream",
     "text": [
      "<class '__main__.Araba'>\n"
     ]
    }
   ],
   "source": [
    "print(type(bmw))"
   ]
  },
  {
   "cell_type": "code",
   "execution_count": 10,
   "metadata": {},
   "outputs": [],
   "source": [
    "class Araba:\n",
    "    plaka = \"\"\n",
    "    vites_tipi = \"\"\n",
    "    marka = \"\"\n",
    "    renk = \"\"\n",
    "    km = 0\n",
    "\n",
    "    def km_arttir(self):\n",
    "        self.km += 100\n",
    "        return self.km\n"
   ]
  },
  {
   "cell_type": "code",
   "execution_count": 12,
   "metadata": {},
   "outputs": [
    {
     "data": {
      "text/plain": [
       "100"
      ]
     },
     "execution_count": 12,
     "metadata": {},
     "output_type": "execute_result"
    }
   ],
   "source": [
    "bmw = Araba()\n",
    "bmw.km_arttir()"
   ]
  },
  {
   "cell_type": "markdown",
   "metadata": {},
   "source": [
    "Default değerler ile class oluşturma"
   ]
  },
  {
   "cell_type": "code",
   "execution_count": 28,
   "metadata": {},
   "outputs": [],
   "source": [
    "class Araba:\n",
    "    plaka = \"\"\n",
    "    vites_tipi = \"Manuel\"  #default olarak deger girilebilir.ürettiğim arabaların hepsi manuel\n",
    "    marka = \"Audi\"\n",
    "    renk = \"Siyah\"\n",
    "    km = 0"
   ]
  },
  {
   "cell_type": "code",
   "execution_count": 29,
   "metadata": {},
   "outputs": [
    {
     "data": {
      "text/plain": [
       "'Manuel'"
      ]
     },
     "execution_count": 29,
     "metadata": {},
     "output_type": "execute_result"
    }
   ],
   "source": [
    "araba = Araba()\n",
    "araba.vites_tipi"
   ]
  },
  {
   "cell_type": "markdown",
   "metadata": {},
   "source": [
    "init() fonksiyonu : pythonda yapıcı fonksiyondur.\n",
    "\n",
    "Nesne oluşturulurken default olarak oluşturulan ilk classtır."
   ]
  },
  {
   "cell_type": "code",
   "execution_count": 67,
   "metadata": {},
   "outputs": [],
   "source": [
    "class Araba:\n",
    "    def __init__(self, vites_tipi, marka, renk, plaka, hiz):\n",
    "        self.vites_tipi = vites_tipi\n",
    "        self.marka = marka\n",
    "        self.renk = renk\n",
    "        self.plaka = plaka\n",
    "        self.hiz = hiz\n",
    "\n",
    "    def hizArttir(self):\n",
    "        self.hiz += 10\n",
    "        return self.hiz\n",
    "\n"
   ]
  },
  {
   "cell_type": "code",
   "execution_count": 68,
   "metadata": {},
   "outputs": [
    {
     "data": {
      "text/plain": [
       "90"
      ]
     },
     "execution_count": 68,
     "metadata": {},
     "output_type": "execute_result"
    }
   ],
   "source": [
    "audi_araba = Araba(\"Otomatik\", \"Audi\", \"Beyaz\", \"23 AU 45\", 80)\n",
    "audi_araba.hizArttir()"
   ]
  },
  {
   "cell_type": "code",
   "execution_count": 70,
   "metadata": {},
   "outputs": [
    {
     "name": "stdout",
     "output_type": "stream",
     "text": [
      "Arabamızın özellikleri: \n",
      "Marka: Audi\n",
      "Plaka: 23 AU 45\n",
      "Vites: Otomatik\n",
      "Rengi: Beyaz\n"
     ]
    }
   ],
   "source": [
    "print(f\"Arabamızın özellikleri: \\nMarka: {audi_araba.marka}\\nPlaka: {audi_araba.plaka}\\nVites: {audi_araba.vites_tipi}\\nRengi: {audi_araba.renk}\")\n"
   ]
  },
  {
   "cell_type": "markdown",
   "metadata": {},
   "source": [
    "* Encapsulation - Kapsülleme\n",
    "* Inheritance - Miras\n",
    "* Polymorphism\n",
    "* Abstract Class\n",
    "* Overriding"
   ]
  },
  {
   "cell_type": "markdown",
   "metadata": {},
   "source": [
    "Encapsulation - Kapsülleme (Erişimi Engelleme)\n",
    "(Kapsülleme ile bazı özellikleri gizleyeceğiz, erişimi kısıtlamak istediğimizde kullanacağız)\n",
    "\n"
   ]
  },
  {
   "cell_type": "code",
   "execution_count": 72,
   "metadata": {},
   "outputs": [],
   "source": [
    "class Personel:\n",
    "    def __init__(self, isim, sicilno, maas, departman):\n",
    "        self.isim = isim\n",
    "        self.sicilno = sicilno\n",
    "        self.__maas = maas   #kapsülleme ile maaşa erişim engellendi.\n",
    "        self.departman = departman\n",
    "\n",
    "    def zam(self):\n",
    "        self.__maas *= 1.4  #(%40 zam)\n"
   ]
  },
  {
   "cell_type": "code",
   "execution_count": 75,
   "metadata": {},
   "outputs": [
    {
     "ename": "AttributeError",
     "evalue": "'Personel' object has no attribute '__maas'",
     "output_type": "error",
     "traceback": [
      "\u001b[1;31m---------------------------------------------------------------------------\u001b[0m",
      "\u001b[1;31mAttributeError\u001b[0m                            Traceback (most recent call last)",
      "Cell \u001b[1;32mIn [75], line 2\u001b[0m\n\u001b[0;32m      1\u001b[0m tpm \u001b[39m=\u001b[39m Personel(\u001b[39m\"\u001b[39m\u001b[39mÜmit\u001b[39m\u001b[39m\"\u001b[39m, \u001b[39m\"\u001b[39m\u001b[39mTCUMIT\u001b[39m\u001b[39m\"\u001b[39m, \u001b[39m10000\u001b[39m, \u001b[39m\"\u001b[39m\u001b[39mICT\u001b[39m\u001b[39m\"\u001b[39m)\n\u001b[1;32m----> 2\u001b[0m tpm\u001b[39m.\u001b[39m__maas\n",
      "\u001b[1;31mAttributeError\u001b[0m: 'Personel' object has no attribute '__maas'"
     ]
    }
   ],
   "source": [
    "tpm = Personel(\"Ümit\", \"TCUMIT\", 10000, \"ICT\")\n",
    "tpm.__maas "
   ]
  },
  {
   "cell_type": "code",
   "execution_count": 77,
   "metadata": {},
   "outputs": [],
   "source": [
    "class Personel:\n",
    "    def __init__(self, isim, sicilno, maas, departman):\n",
    "        self.isim = isim\n",
    "        self.sicilno = sicilno\n",
    "        self.__maas = maas\n",
    "        self.departman = departman\n",
    "\n",
    "    def getMaas(self):  \n",
    "        return self.__maas\n",
    "\n",
    "    def setMaas(self, yeni_maas):\n",
    "        self.__maas = yeni_maas\n",
    "\n",
    "    \n"
   ]
  },
  {
   "cell_type": "code",
   "execution_count": 79,
   "metadata": {},
   "outputs": [
    {
     "name": "stdout",
     "output_type": "stream",
     "text": [
      "20000\n",
      "25000\n"
     ]
    }
   ],
   "source": [
    "ik = Personel(\"Öykü\", \"TCOYKU\", 20000, \"HR\")\n",
    "print(ik.getMaas())\n",
    "ik.setMaas(25000)\n",
    "print(ik.getMaas())"
   ]
  },
  {
   "cell_type": "markdown",
   "metadata": {},
   "source": [
    "Inheritance(Kalıtım-Miras)"
   ]
  },
  {
   "cell_type": "code",
   "execution_count": 40,
   "metadata": {},
   "outputs": [],
   "source": [
    "class Personel:\n",
    "    def __init__(self, isim, sicilno, departman):\n",
    "        self.isim = isim\n",
    "        self.sicilno = sicilno\n",
    "        self.departman = departman\n",
    "        print(\"Personel Classı oluşturuldu\")\n",
    "\n",
    "class InSource(Personel):\n",
    "    def __init__(self, isim, sicilno, departman, yanhak):\n",
    "        super().__init__(isim, sicilno, departman)\n",
    "        self.yanhak = yanhak\n",
    "        print(\"Insource classı oluşturuldu\")"
   ]
  },
  {
   "cell_type": "code",
   "execution_count": 43,
   "metadata": {},
   "outputs": [
    {
     "name": "stdout",
     "output_type": "stream",
     "text": [
      "Personel Classı oluşturuldu\n",
      "Insource classı oluşturuldu\n"
     ]
    },
    {
     "data": {
      "text/plain": [
       "True"
      ]
     },
     "execution_count": 43,
     "metadata": {},
     "output_type": "execute_result"
    }
   ],
   "source": [
    "personel = InSource(\"Rabia\", \"TCRABIA\", \"ICT\", True)\n",
    "personel.yanhak\n"
   ]
  },
  {
   "cell_type": "markdown",
   "metadata": {},
   "source": [
    "Abstract Class (Soyut Sınıflar)\n",
    "\n"
   ]
  },
  {
   "cell_type": "code",
   "execution_count": 44,
   "metadata": {},
   "outputs": [],
   "source": [
    "from abc import ABC, abstractmethod  #ABC ->Abstract base class\n",
    "\n",
    "\n",
    "class Personel(ABC):\n",
    "    @abstractmethod   #abstract olarak tanımlama\n",
    "    def yas(self):\n",
    "        pass   #içeriğini doldurmak istemedğinizde pass ile geç diyebilirsiniz\n"
   ]
  },
  {
   "cell_type": "code",
   "execution_count": null,
   "metadata": {},
   "outputs": [],
   "source": [
    "class outSource(Personel):\n",
    "    def yas(self):\n",
    "        return super().yas()"
   ]
  },
  {
   "cell_type": "code",
   "execution_count": 45,
   "metadata": {},
   "outputs": [],
   "source": [
    "class outSource(Personel):\n",
    "    def yas(self):  #abstractan sınıf alıyorsak içeriğindeki tüm metotları tanımlamak zorundayız\n",
    "        pass"
   ]
  },
  {
   "cell_type": "code",
   "execution_count": 46,
   "metadata": {},
   "outputs": [],
   "source": [
    "staff = outSource()"
   ]
  },
  {
   "cell_type": "markdown",
   "metadata": {},
   "source": [
    "Overriding(Üzerine Yazma)"
   ]
  },
  {
   "cell_type": "code",
   "execution_count": 48,
   "metadata": {},
   "outputs": [],
   "source": [
    "class Personel:\n",
    "    def __init__(self, isim, sicilno, departman):\n",
    "        self.isim = isim\n",
    "        self.sicilno = sicilno\n",
    "        self.departman = departman\n",
    "\n",
    "    def info(self):\n",
    "        print(\"Üst class içerisindeyim\")"
   ]
  },
  {
   "cell_type": "code",
   "execution_count": 49,
   "metadata": {},
   "outputs": [],
   "source": [
    "class Insource(Personel):  #personelden miras aldım\n",
    "    def __init__(self, isim, sicilno, departman):\n",
    "        super().__init__(isim, sicilno, departman)\n",
    "\n",
    "    def info(self):\n",
    "        print(\"Alt sınıfın içeriisndeyim\")\n"
   ]
  },
  {
   "cell_type": "code",
   "execution_count": 51,
   "metadata": {},
   "outputs": [
    {
     "name": "stdout",
     "output_type": "stream",
     "text": [
      "Alt sınıfın içeriisndeyim\n"
     ]
    }
   ],
   "source": [
    "personel = Insource(\"Zeynep\", \"TCZEYNEP\", \"DSS\")\n",
    "personel.info()   #alt sınıflar üst sınıfları ezmiş oluyor, son durum alt sınıf görüntülendi"
   ]
  },
  {
   "cell_type": "markdown",
   "metadata": {},
   "source": [
    "Polymorphism (Çok Biçimlilik) -> class oluşturacağız, class içerisinde tanımlanan değerler farklı "
   ]
  },
  {
   "cell_type": "code",
   "execution_count": 52,
   "metadata": {},
   "outputs": [],
   "source": [
    "class Personel:\n",
    "    def __init__(self, isim, sicilno, maas):\n",
    "        self.isim = isim\n",
    "        self.sicilno = sicilno\n",
    "        self.maas = maas\n",
    "\n",
    "    def zam(self):\n",
    "        return self.maas * 1.2 #%20 zam"
   ]
  },
  {
   "cell_type": "code",
   "execution_count": 55,
   "metadata": {},
   "outputs": [],
   "source": [
    "class OutSource(Personel):\n",
    "    def __init__(self, isim, sicilno, maas):\n",
    "        super().__init__(isim, sicilno, maas)\n",
    "\n",
    "    def zam(self):\n",
    "        return self.maas * 1.1\n",
    "        "
   ]
  },
  {
   "cell_type": "code",
   "execution_count": 57,
   "metadata": {},
   "outputs": [],
   "source": [
    "class InSource(Personel):\n",
    "    def __init__(self, isim, sicilno, maas):\n",
    "        super().__init__(isim, sicilno, maas)\n",
    "\n",
    "    def zam(self):\n",
    "        return self.maas * 1.4"
   ]
  },
  {
   "cell_type": "code",
   "execution_count": 58,
   "metadata": {},
   "outputs": [],
   "source": [
    "personel1 = Personel(\"Ayse nur\", \"TCAYSENUR\", 10000)\n",
    "personel2 = InSource(\"Zehra\", \"TCZEHRA\", 10000)\n",
    "personel3 = OutSource(\"Sude\", \"TCSUDE\", 10000)"
   ]
  },
  {
   "cell_type": "code",
   "execution_count": 59,
   "metadata": {},
   "outputs": [
    {
     "name": "stdout",
     "output_type": "stream",
     "text": [
      "12000.0\n",
      "14000.0\n",
      "11000.0\n"
     ]
    }
   ],
   "source": [
    "print(personel1.zam())\n",
    "print(personel2.zam())\n",
    "print(personel3.zam())"
   ]
  },
  {
   "cell_type": "markdown",
   "metadata": {},
   "source": [
    "**Hayvanat Bahçesi** \n",
    "\n",
    "Hayvanların Bilgilerini Takip Etmek için bir sistem tasarlayalım.\n",
    "\n",
    "* Hayvanlar:\n",
    "* Atlar(zebralar, atlar, eşekler vb.)\n",
    "* Kemirgenler(sıçanlar, kunduzlar vb.)\n",
    "* Kedigiller(kaplanlar, aslanlar)\n",
    "* Hayvanların tür adı, ağırlığı, yaş bilgileri tutulacak\n",
    "* Sistem yem verme saatlerini seçebilmeli -> getFeedSchedule()\n",
    "* Her hayvan için belirli ilaçların dozajının belirlenmesi -> defDosage()  polymorphisim ile her biri farklı ilaç dozajında alacak"
   ]
  },
  {
   "cell_type": "code",
   "execution_count": 81,
   "metadata": {},
   "outputs": [],
   "source": [
    "class Hayvan: #en üst class herhangi sınıftan miras almayacağımız için () yok\n",
    "    def __init__(self, tur_adi, agirligi, yas):\n",
    "        #özelliklerimize ulaşabilmek için self kullanılır\n",
    "        self.tur_adi = tur_adi\n",
    "        self.agirligi = agirligi\n",
    "        self.yas = yas\n",
    "\n",
    "    def getFeedSchedule(self):\n",
    "        return [10, 20]\n",
    "    \n",
    "    def getDosage(self):\n",
    "        return 2"
   ]
  },
  {
   "cell_type": "code",
   "execution_count": 82,
   "metadata": {},
   "outputs": [],
   "source": [
    "class Atlar(Hayvan):  #hayvanlar class'ından miras aldık (hayvan) ile\n",
    "    def __init__(self, tur_adi, agirliği, yas):\n",
    "        super().__init__(tur_adi, agirliği, yas)  #üst sınıftaki bu değerleri aynı al diye super() kullanırız\n",
    "\n",
    "    def getFeedSchedule(self):  #bu getlerin gelmesi polymorphismdir. kendi değerimi giricem\n",
    "        return [6, 12, 18]\n",
    "\n",
    "    def getDosage(self):\n",
    "        return  3\n"
   ]
  },
  {
   "cell_type": "code",
   "execution_count": 83,
   "metadata": {},
   "outputs": [],
   "source": [
    "class Kemirgenler(Hayvan):  #hayvanlar class'ından miras aldık (hayvan) ile\n",
    "    def __init__(self, tur_adi, agirliği, yas):\n",
    "        super().__init__(tur_adi, agirliği, yas)  #üst sınıftaki bu değerleri aynı al diye super() kullanırız\n",
    "\n",
    "    def getFeedSchedule(self):  \n",
    "        return [8, 18]\n",
    "\n",
    "    def getDosage(self):\n",
    "        return  1"
   ]
  },
  {
   "cell_type": "code",
   "execution_count": 84,
   "metadata": {},
   "outputs": [],
   "source": [
    "class Kedigiller(Hayvan):  #hayvanlar class'ından miras aldık (hayvan) ile\n",
    "    def __init__(self, tur_adi, agirliği, yas):\n",
    "        super().__init__(tur_adi, agirliği, yas)  \n",
    "\n",
    "    def getFeedSchedule(self):  \n",
    "        return [6, 13, 20]\n",
    "\n",
    "    def getDosage(self):\n",
    "        return  2"
   ]
  },
  {
   "cell_type": "code",
   "execution_count": 85,
   "metadata": {},
   "outputs": [],
   "source": [
    "at = Atlar(\"At\", 150, 3)\n",
    "aslan = Kedigiller(\"Aslan\", 90, 1)\n",
    "kemirgen = Kemirgenler(\"Kemirgen\", 2, 1)"
   ]
  },
  {
   "cell_type": "code",
   "execution_count": 86,
   "metadata": {},
   "outputs": [
    {
     "name": "stdout",
     "output_type": "stream",
     "text": [
      "Atlar için:\n",
      "İlaç Dozu: 3\n",
      "Yem Saatleri: [6, 12, 18]\n",
      "\n",
      "\n",
      "Kedigiller için:\n",
      "İlaç Dozu: 2\n",
      "Yem Saatleri: [6, 13, 20]\n",
      "\n",
      "\n",
      "Kemirgenler için:\n",
      "İlaç Dozu: 1\n",
      "Yem Saatleri: [8, 18]\n",
      "\n",
      "\n"
     ]
    }
   ],
   "source": [
    "print(f\"Atlar için:\\nİlaç Dozu: {at.getDosage()}\\nYem Saatleri: {at.getFeedSchedule()}\\n\\n\")\n",
    "print(f\"Kedigiller için:\\nİlaç Dozu: {aslan.getDosage()}\\nYem Saatleri: {aslan.getFeedSchedule()}\\n\\n\")\n",
    "print(f\"Kemirgenler için:\\nİlaç Dozu: {kemirgen.getDosage()}\\nYem Saatleri: {kemirgen.getFeedSchedule()}\\n\\n\")\n"
   ]
  }
 ],
 "metadata": {
  "kernelspec": {
   "display_name": "Python 3.10.8 64-bit (microsoft store)",
   "language": "python",
   "name": "python3"
  },
  "language_info": {
   "codemirror_mode": {
    "name": "ipython",
    "version": 3
   },
   "file_extension": ".py",
   "mimetype": "text/x-python",
   "name": "python",
   "nbconvert_exporter": "python",
   "pygments_lexer": "ipython3",
   "version": "3.10.8"
  },
  "orig_nbformat": 4,
  "vscode": {
   "interpreter": {
    "hash": "5ee8566cd02fc12b012a18b99b3a82438b9e224a90e590f4237ed03c182601f5"
   }
  }
 },
 "nbformat": 4,
 "nbformat_minor": 2
}
