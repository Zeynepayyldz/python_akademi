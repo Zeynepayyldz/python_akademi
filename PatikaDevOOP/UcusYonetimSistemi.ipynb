{
 "cells": [
  {
   "cell_type": "code",
   "execution_count": 1,
   "metadata": {},
   "outputs": [],
   "source": [
    "class airport_company:\n",
    "    def __init__(self, name, id):\n",
    "        self.name = name\n",
    "        self.id = id\n"
   ]
  },
  {
   "cell_type": "code",
   "execution_count": 2,
   "metadata": {},
   "outputs": [],
   "source": [
    "class airport(airport_company): \n",
    "    def __init__(self, name, id):\n",
    "        super().__init__(name, id)"
   ]
  },
  {
   "cell_type": "code",
   "execution_count": 4,
   "metadata": {},
   "outputs": [],
   "source": [
    "class plane(airport_company):\n",
    "    def __init__(self, name, id, PlaneType, PilotQuality):\n",
    "        super().__init__(name, id)\n",
    "        self.PlaneType = PlaneType\n",
    "        self.PilotQuality = PilotQuality"
   ]
  },
  {
   "cell_type": "code",
   "execution_count": 5,
   "metadata": {},
   "outputs": [],
   "source": [
    "class flight(airport_company):\n",
    "    def __init__(self, id, departuretime, landingtime):\n",
    "        super().__init__(name, id)\n",
    "        self.departuretime = departuretime\n",
    "        self.landingtime = landingtime"
   ]
  },
  {
   "cell_type": "code",
   "execution_count": null,
   "metadata": {},
   "outputs": [],
   "source": [
    "class pilot(airport_company):\n",
    "    def __init__(self, name, id, experiencelevel):\n",
    "        super().__init__(name, id)\n",
    "        self.experiencelevel = experiencelevel"
   ]
  }
 ],
 "metadata": {
  "kernelspec": {
   "display_name": "Python 3.10.8 64-bit (microsoft store)",
   "language": "python",
   "name": "python3"
  },
  "language_info": {
   "codemirror_mode": {
    "name": "ipython",
    "version": 3
   },
   "file_extension": ".py",
   "mimetype": "text/x-python",
   "name": "python",
   "nbconvert_exporter": "python",
   "pygments_lexer": "ipython3",
   "version": "3.10.8"
  },
  "orig_nbformat": 4,
  "vscode": {
   "interpreter": {
    "hash": "5ee8566cd02fc12b012a18b99b3a82438b9e224a90e590f4237ed03c182601f5"
   }
  }
 },
 "nbformat": 4,
 "nbformat_minor": 2
}
